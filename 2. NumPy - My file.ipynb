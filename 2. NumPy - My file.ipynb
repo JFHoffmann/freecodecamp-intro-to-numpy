{
  "cells": [
    {
      "cell_type": "markdown",
      "metadata": {
        "id": "zpcdf7_lc_Mr"
      },
      "source": [
        "![rmotr](https://user-images.githubusercontent.com/7065401/52071918-bda15380-2562-11e9-828c-7f95297e4a82.png)\n",
        "<hr style=\"margin-bottom: 40px;\">\n",
        "\n",
        "<img src=\"https://user-images.githubusercontent.com/7065401/39118381-910eb0c2-46e9-11e8-81f1-a5b897401c23.jpeg\"\n",
        "    style=\"width:300px; float: right; margin: 0 40px 40px 40px;\"></img>\n",
        "\n",
        "# Numpy: Numeric computing library\n",
        "\n",
        "NumPy (Numerical Python) is one of the core packages for numerical computing in Python. Pandas, Matplotlib, Statmodels and many other Scientific libraries rely on NumPy.\n",
        "\n",
        "NumPy major contributions are:\n",
        "\n",
        "* Efficient numeric computation with C primitives\n",
        "* Efficient collections with vectorized operations\n",
        "* An integrated and natural Linear Algebra API\n",
        "* A C API for connecting NumPy with libraries written in C, C++, or FORTRAN.\n",
        "\n",
        "Let's develop on efficiency. In Python, **everything is an object**, which means that even simple ints are also objects, with all the required machinery to make object work. We call them \"Boxed Ints\". In contrast, NumPy uses primitive numeric types (floats, ints) which makes storing and computation efficient."
      ]
    },
    {
      "cell_type": "markdown",
      "metadata": {
        "id": "UXY1alYyc_Mt"
      },
      "source": [
        "<img src=\"https://docs.google.com/drawings/d/e/2PACX-1vTkDtKYMUVdpfVb3TTpr_8rrVtpal2dOknUUEOu85wJ1RitzHHf5nsJqz1O0SnTt8BwgJjxXMYXyIqs/pub?w=726&h=396\" />\n"
      ]
    },
    {
      "cell_type": "markdown",
      "metadata": {
        "id": "ec_BLnRmc_Mt"
      },
      "source": [
        "![purple-divider](https://user-images.githubusercontent.com/7065401/52071927-c1cd7100-2562-11e9-908a-dde91ba14e59.png)\n",
        "\n",
        "## Hands on! "
      ]
    },
    {
      "cell_type": "code",
      "execution_count": 2,
      "metadata": {
        "id": "XX5qhRZDc_Mu"
      },
      "outputs": [],
      "source": [
        "import sys\n",
        "import numpy as np"
      ]
    },
    {
      "cell_type": "markdown",
      "metadata": {
        "id": "3COMAuUmc_Mu"
      },
      "source": [
        "## Basic Numpy Arrays"
      ]
    },
    {
      "cell_type": "markdown",
      "source": [
        "Creating arrays in Numpy np.array([n1, n2, n3])"
      ],
      "metadata": {
        "id": "T2Wbd3qgeWXs"
      }
    },
    {
      "cell_type": "code",
      "execution_count": 3,
      "metadata": {
        "colab": {
          "base_uri": "https://localhost:8080/"
        },
        "id": "deSBlxj7c_Mv",
        "outputId": "136933d6-46a4-4d91-cb5a-cb51605c04cb"
      },
      "outputs": [
        {
          "output_type": "execute_result",
          "data": {
            "text/plain": [
              "array([1, 2, 3, 4])"
            ]
          },
          "metadata": {},
          "execution_count": 3
        }
      ],
      "source": [
        "np.array([1, 2, 3, 4])"
      ]
    },
    {
      "cell_type": "markdown",
      "source": [
        ""
      ],
      "metadata": {
        "id": "abl_DT82eUnL"
      }
    },
    {
      "cell_type": "code",
      "execution_count": 4,
      "metadata": {
        "id": "jB9QcPaPc_Mv"
      },
      "outputs": [],
      "source": [
        "a = np.array([1, 2, 3, 4])"
      ]
    },
    {
      "cell_type": "code",
      "execution_count": 5,
      "metadata": {
        "id": "dbkg8sZ-c_Mw"
      },
      "outputs": [],
      "source": [
        "b = np.array([0, .5, 1, 1.5, 2])"
      ]
    },
    {
      "cell_type": "markdown",
      "source": [
        "Accessing individual elements from a Numpy Array"
      ],
      "metadata": {
        "id": "OPVVH8Gjemci"
      }
    },
    {
      "cell_type": "code",
      "execution_count": 6,
      "metadata": {
        "colab": {
          "base_uri": "https://localhost:8080/"
        },
        "id": "qoh9DC8kc_Mw",
        "outputId": "078e3919-9fbf-404f-f661-461e9ed88232"
      },
      "outputs": [
        {
          "output_type": "execute_result",
          "data": {
            "text/plain": [
              "(1, 2)"
            ]
          },
          "metadata": {},
          "execution_count": 6
        }
      ],
      "source": [
        "a[0], a[1]"
      ]
    },
    {
      "cell_type": "markdown",
      "source": [
        "**Slicing** \n",
        "\n",
        "It works the same as in Python.\n",
        "\n",
        "**slice(start, end, step)**\n",
        "*  **start**\tOptional. An integer number specifying at which position to start the \n",
        "slicing. Default is 0\n",
        "*  **end**\tAn integer number specifying at which position to end the slicing\n",
        "*  **step**\tOptional. An integer number specifying the step of the slicing. Default is 1"
      ],
      "metadata": {
        "id": "JtlRaUHUeuE7"
      }
    },
    {
      "cell_type": "markdown",
      "source": [
        "**Slice From the Start**\n",
        "\n",
        "By leaving out the start index, the range will start at the first character:\n",
        "\n",
        "Get the characters from the start to position 2 (not included):"
      ],
      "metadata": {
        "id": "4SP3nSEMgeML"
      }
    },
    {
      "cell_type": "code",
      "source": [
        "a[:2]"
      ],
      "metadata": {
        "colab": {
          "base_uri": "https://localhost:8080/"
        },
        "id": "2jL8WpU-gXCN",
        "outputId": "c9a67398-658e-421d-91b0-ff87dd4e0a44"
      },
      "execution_count": 7,
      "outputs": [
        {
          "output_type": "execute_result",
          "data": {
            "text/plain": [
              "array([1, 2])"
            ]
          },
          "metadata": {},
          "execution_count": 7
        }
      ]
    },
    {
      "cell_type": "markdown",
      "source": [
        "**Slice To the End**\n",
        "\n",
        "By leaving out the end index, the range will go to the end:\n",
        "\n",
        "Get the characters from position 0, and all the way to the end:"
      ],
      "metadata": {
        "id": "oEXAoTxsgDqd"
      }
    },
    {
      "cell_type": "code",
      "execution_count": 8,
      "metadata": {
        "colab": {
          "base_uri": "https://localhost:8080/"
        },
        "id": "TXUFNK7kc_Mx",
        "outputId": "3e0a0270-b358-4f96-8d87-cd45e1fb804d"
      },
      "outputs": [
        {
          "output_type": "execute_result",
          "data": {
            "text/plain": [
              "array([1, 2, 3, 4])"
            ]
          },
          "metadata": {},
          "execution_count": 8
        }
      ],
      "source": [
        "a[0:]"
      ]
    },
    {
      "cell_type": "markdown",
      "source": [
        "Get the characters from position 1 to position 3 (not included):\n",
        "* [1, 2, 3, 4] - Array of numbers\n",
        "* [0, 1, 2, 3] - Positions of each number\n",
        "\n",
        "Note: The first character has index 0."
      ],
      "metadata": {
        "id": "a88Yw51ffZxE"
      }
    },
    {
      "cell_type": "code",
      "execution_count": 9,
      "metadata": {
        "colab": {
          "base_uri": "https://localhost:8080/"
        },
        "id": "Pk9U9OJ9c_Mx",
        "outputId": "c4222f74-dbc1-4f57-9ba1-426f6d16e604"
      },
      "outputs": [
        {
          "output_type": "execute_result",
          "data": {
            "text/plain": [
              "array([2, 3])"
            ]
          },
          "metadata": {},
          "execution_count": 9
        }
      ],
      "source": [
        "a[1:3]"
      ]
    },
    {
      "cell_type": "markdown",
      "source": [
        "**Negative Indexing**\n",
        "\n",
        "Use negative indexes to start the slice from the end of the string:\n",
        "\n",
        "**Example**: Get the characters:\n",
        "\n",
        "From: \"o\" in \"World!\" (position -5)\n",
        "\n",
        "To, but not included: \"d\" in \"World!\" (position -2):\n",
        "\n",
        "b = \"Hello, World!\"\n",
        "\n",
        "print(b[-5:-2])"
      ],
      "metadata": {
        "id": "8Bqfpwvag9W1"
      }
    },
    {
      "cell_type": "markdown",
      "source": [
        "Get the characters from position 1 to -1 (from the end of the string)\n",
        "* [1, 2, 3, 4] - Array of numbers\n",
        "* [-4, -3, -2, -1] - Positions of each number"
      ],
      "metadata": {
        "id": "aRIqWje4hOPd"
      }
    },
    {
      "cell_type": "markdown",
      "source": [
        "![Slicing in Python.PNG](data:image/png;base64,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)"
      ],
      "metadata": {
        "id": "9NulDjCIiANF"
      }
    },
    {
      "cell_type": "markdown",
      "source": [
        "Image: https://idgol.com/python-create-list-of-variables"
      ],
      "metadata": {
        "id": "YvAhSrUsidoj"
      }
    },
    {
      "cell_type": "code",
      "execution_count": 10,
      "metadata": {
        "scrolled": true,
        "colab": {
          "base_uri": "https://localhost:8080/"
        },
        "id": "_KEWJt90c_Mx",
        "outputId": "12fd7aa6-4c58-45e1-8373-5a66fd3317d9"
      },
      "outputs": [
        {
          "output_type": "execute_result",
          "data": {
            "text/plain": [
              "array([2, 3])"
            ]
          },
          "metadata": {},
          "execution_count": 10
        }
      ],
      "source": [
        "a[1:-1]"
      ]
    },
    {
      "cell_type": "code",
      "execution_count": 11,
      "metadata": {
        "colab": {
          "base_uri": "https://localhost:8080/"
        },
        "id": "2Z8Vt4akc_Mx",
        "outputId": "d6d0470e-8332-4ef1-f3ae-8601d474bff6"
      },
      "outputs": [
        {
          "output_type": "execute_result",
          "data": {
            "text/plain": [
              "array([1, 3])"
            ]
          },
          "metadata": {},
          "execution_count": 11
        }
      ],
      "source": [
        "a[::2]"
      ]
    },
    {
      "cell_type": "markdown",
      "source": [
        "Numpy offers a new functionality called Multi indexing.\n",
        "\n",
        "If he want to access the elements in the array b = np.array([0, .5, 1, 1.5, 2])\n",
        "\n",
        "Instead of accessing the elements using: b[0], b[2], b[-1]\n",
        "\n",
        "We pass another list containing the indexes of the elements you want to select:\n",
        "\n",
        "b[[0, 2, -1]]\n",
        "\n",
        "As a result, this creates a new array: \n",
        "\n",
        "array([0., 1., 2.])\n"
      ],
      "metadata": {
        "id": "MKL6ENVijA5D"
      }
    },
    {
      "cell_type": "code",
      "execution_count": 12,
      "metadata": {
        "colab": {
          "base_uri": "https://localhost:8080/"
        },
        "id": "-e--bzd7c_My",
        "outputId": "ba571f34-cf38-4efa-bea4-f4f41bd306c1"
      },
      "outputs": [
        {
          "output_type": "execute_result",
          "data": {
            "text/plain": [
              "array([0. , 0.5, 1. , 1.5, 2. ])"
            ]
          },
          "metadata": {},
          "execution_count": 12
        }
      ],
      "source": [
        "b"
      ]
    },
    {
      "cell_type": "code",
      "execution_count": 13,
      "metadata": {
        "scrolled": true,
        "colab": {
          "base_uri": "https://localhost:8080/"
        },
        "id": "6XXnErbxc_My",
        "outputId": "8edda111-c240-44c5-83a4-d964a9cc3b66"
      },
      "outputs": [
        {
          "output_type": "execute_result",
          "data": {
            "text/plain": [
              "(0.0, 1.0, 2.0)"
            ]
          },
          "metadata": {},
          "execution_count": 13
        }
      ],
      "source": [
        "b[0], b[2], b[-1]"
      ]
    },
    {
      "cell_type": "markdown",
      "source": [
        "\n"
      ],
      "metadata": {
        "id": "5p9v5y3Fi5I7"
      }
    },
    {
      "cell_type": "code",
      "execution_count": 14,
      "metadata": {
        "colab": {
          "base_uri": "https://localhost:8080/"
        },
        "id": "BVJVHsJwc_My",
        "outputId": "78f93162-532c-48d7-f9de-cc6f5b59c1c6"
      },
      "outputs": [
        {
          "output_type": "execute_result",
          "data": {
            "text/plain": [
              "array([0., 1., 2.])"
            ]
          },
          "metadata": {},
          "execution_count": 14
        }
      ],
      "source": [
        "b[[0, 2, -1]]"
      ]
    },
    {
      "cell_type": "code",
      "source": [
        "array1 = np.array([[1,2,3,4,5,6,7],[8,9,10,11,12,13,14]])"
      ],
      "metadata": {
        "id": "d_fp76UauZiZ"
      },
      "execution_count": 57,
      "outputs": []
    },
    {
      "cell_type": "code",
      "source": [
        "print(array1)"
      ],
      "metadata": {
        "colab": {
          "base_uri": "https://localhost:8080/"
        },
        "id": "Ix2At0Jiu5op",
        "outputId": "8f32778a-5af4-4055-86c8-119cd556f889"
      },
      "execution_count": 58,
      "outputs": [
        {
          "output_type": "stream",
          "name": "stdout",
          "text": [
            "[[ 1  2  3  4  5  6  7]\n",
            " [ 8  9 10 11 12 13 14]]\n"
          ]
        }
      ]
    },
    {
      "cell_type": "code",
      "source": [
        "array1[1,5]#Getting a specific element"
      ],
      "metadata": {
        "colab": {
          "base_uri": "https://localhost:8080/"
        },
        "id": "WFNpOKFHu7F3",
        "outputId": "a408f738-976b-4275-d137-eae2126efdcc"
      },
      "execution_count": 59,
      "outputs": [
        {
          "output_type": "execute_result",
          "data": {
            "text/plain": [
              "13"
            ]
          },
          "metadata": {},
          "execution_count": 59
        }
      ]
    },
    {
      "cell_type": "code",
      "source": [
        "array1[0, 1:-1:2] #starting index:end index: step"
      ],
      "metadata": {
        "colab": {
          "base_uri": "https://localhost:8080/"
        },
        "id": "mr1C-J5kvD5X",
        "outputId": "0e305c45-7fc3-4bad-8ac0-9e34860b1f14"
      },
      "execution_count": 60,
      "outputs": [
        {
          "output_type": "execute_result",
          "data": {
            "text/plain": [
              "array([2, 4, 6])"
            ]
          },
          "metadata": {},
          "execution_count": 60
        }
      ]
    },
    {
      "cell_type": "markdown",
      "metadata": {
        "id": "NDTgrrQ5c_My"
      },
      "source": [
        "![green-divider](https://user-images.githubusercontent.com/7065401/52071924-c003ad80-2562-11e9-8297-1c6595f8a7ff.png)\n",
        "\n",
        "## Array Types"
      ]
    },
    {
      "cell_type": "code",
      "execution_count": 15,
      "metadata": {
        "colab": {
          "base_uri": "https://localhost:8080/"
        },
        "id": "A7XnP1e1c_My",
        "outputId": "9855b0b4-5ceb-44b7-bbb4-8765dc447df2"
      },
      "outputs": [
        {
          "output_type": "execute_result",
          "data": {
            "text/plain": [
              "array([1, 2, 3, 4])"
            ]
          },
          "metadata": {},
          "execution_count": 15
        }
      ],
      "source": [
        "a"
      ]
    },
    {
      "cell_type": "markdown",
      "source": [
        "When creating the array ([1, 2, 3, 4]), Numpy selected the type int64 by default. \n",
        "\n",
        "In a 64 bit platform, by default, Numpy will used float64 and int64.\n",
        "\n",
        "Other types can be selected."
      ],
      "metadata": {
        "id": "sqGPrnutkH5z"
      }
    },
    {
      "cell_type": "code",
      "execution_count": 16,
      "metadata": {
        "colab": {
          "base_uri": "https://localhost:8080/"
        },
        "id": "cWBlWaTEc_Mz",
        "outputId": "360d2e14-9803-45c9-87d3-245df43843a6"
      },
      "outputs": [
        {
          "output_type": "execute_result",
          "data": {
            "text/plain": [
              "dtype('int64')"
            ]
          },
          "metadata": {},
          "execution_count": 16
        }
      ],
      "source": [
        "a.dtype"
      ]
    },
    {
      "cell_type": "code",
      "execution_count": 17,
      "metadata": {
        "colab": {
          "base_uri": "https://localhost:8080/"
        },
        "id": "RRlyShwFc_Mz",
        "outputId": "9599bfb4-8786-4bc0-cc44-ec2a7a980b21"
      },
      "outputs": [
        {
          "output_type": "execute_result",
          "data": {
            "text/plain": [
              "array([0. , 0.5, 1. , 1.5, 2. ])"
            ]
          },
          "metadata": {},
          "execution_count": 17
        }
      ],
      "source": [
        "b"
      ]
    },
    {
      "cell_type": "markdown",
      "source": [
        "The array b was created with decimal numbers, so Numpy uses by default the float64 type"
      ],
      "metadata": {
        "id": "UgMV7RowkpJ0"
      }
    },
    {
      "cell_type": "code",
      "execution_count": 18,
      "metadata": {
        "colab": {
          "base_uri": "https://localhost:8080/"
        },
        "id": "Cz0PmySec_Mz",
        "outputId": "5b0bebc9-b254-49d8-898e-25f5c590d687"
      },
      "outputs": [
        {
          "output_type": "execute_result",
          "data": {
            "text/plain": [
              "dtype('float64')"
            ]
          },
          "metadata": {},
          "execution_count": 18
        }
      ],
      "source": [
        "b.dtype"
      ]
    },
    {
      "cell_type": "code",
      "execution_count": 19,
      "metadata": {
        "scrolled": true,
        "id": "QtJWa0Isc_Mz",
        "outputId": "d35c6324-6706-4b2f-ac7f-b9e53ba60b6d",
        "colab": {
          "base_uri": "https://localhost:8080/"
        }
      },
      "outputs": [
        {
          "output_type": "stream",
          "name": "stderr",
          "text": [
            "/usr/local/lib/python3.7/dist-packages/ipykernel_launcher.py:1: DeprecationWarning: `np.float` is a deprecated alias for the builtin `float`. To silence this warning, use `float` by itself. Doing this will not modify any behavior and is safe. If you specifically wanted the numpy scalar type, use `np.float64` here.\n",
            "Deprecated in NumPy 1.20; for more details and guidance: https://numpy.org/devdocs/release/1.20.0-notes.html#deprecations\n",
            "  \"\"\"Entry point for launching an IPython kernel.\n"
          ]
        },
        {
          "output_type": "execute_result",
          "data": {
            "text/plain": [
              "array([1., 2., 3., 4.])"
            ]
          },
          "metadata": {},
          "execution_count": 19
        }
      ],
      "source": [
        "np.array([1, 2, 3, 4], dtype=np.float)"
      ]
    },
    {
      "cell_type": "code",
      "execution_count": 20,
      "metadata": {
        "scrolled": true,
        "colab": {
          "base_uri": "https://localhost:8080/"
        },
        "id": "6BB8k2Nvc_Mz",
        "outputId": "592edfca-3c37-4778-f9e7-020e823ecc5a"
      },
      "outputs": [
        {
          "output_type": "execute_result",
          "data": {
            "text/plain": [
              "array([1, 2, 3, 4], dtype=int8)"
            ]
          },
          "metadata": {},
          "execution_count": 20
        }
      ],
      "source": [
        "np.array([1, 2, 3, 4], dtype=np.int8)"
      ]
    },
    {
      "cell_type": "markdown",
      "source": [
        "Numpy is meant to be used for numeric calculation.\n",
        "It can store Strings too.\n",
        "\n",
        "The <U1 type is related to the Unicode representation, memory, etc.\n",
        "\n",
        "\n",
        "<U1:\n",
        "\n",
        "* < : represents byte order, small end （ the least significant byte is stored in the smallest address ）\n",
        "* U : unicode, data type\n",
        "* 1 : represents element bit length, data size"
      ],
      "metadata": {
        "id": "oj7h41x3k--V"
      }
    },
    {
      "cell_type": "code",
      "execution_count": 21,
      "metadata": {
        "id": "5dpqRDp2c_Mz"
      },
      "outputs": [],
      "source": [
        "c = np.array(['a', 'b', 'c'])"
      ]
    },
    {
      "cell_type": "code",
      "execution_count": 22,
      "metadata": {
        "colab": {
          "base_uri": "https://localhost:8080/"
        },
        "id": "I9VIScEyc_M0",
        "outputId": "1bab74fe-0329-4842-e171-99e9c6e4f0f1"
      },
      "outputs": [
        {
          "output_type": "execute_result",
          "data": {
            "text/plain": [
              "dtype('<U1')"
            ]
          },
          "metadata": {},
          "execution_count": 22
        }
      ],
      "source": [
        "c.dtype"
      ]
    },
    {
      "cell_type": "code",
      "execution_count": 23,
      "metadata": {
        "id": "9aGvX_GHc_M0"
      },
      "outputs": [],
      "source": [
        "d = np.array([{'a': 1}, sys])"
      ]
    },
    {
      "cell_type": "code",
      "execution_count": 24,
      "metadata": {
        "colab": {
          "base_uri": "https://localhost:8080/"
        },
        "id": "PxmeAswKc_M0",
        "outputId": "5f05f7a7-602e-413d-8db0-ca6a5943f386"
      },
      "outputs": [
        {
          "output_type": "execute_result",
          "data": {
            "text/plain": [
              "dtype('O')"
            ]
          },
          "metadata": {},
          "execution_count": 24
        }
      ],
      "source": [
        "d.dtype"
      ]
    },
    {
      "cell_type": "markdown",
      "source": [
        "**numpy.nbytes** returns a dictionary of dtypes and number of bytes."
      ],
      "metadata": {
        "id": "vcHkLGYNlxg8"
      }
    },
    {
      "cell_type": "code",
      "source": [
        "np.nbytes"
      ],
      "metadata": {
        "id": "Ek5MZLtJlsde",
        "outputId": "ffbb3c86-3d54-42a0-feee-5a1e1bb6bfd8",
        "colab": {
          "base_uri": "https://localhost:8080/"
        }
      },
      "execution_count": 25,
      "outputs": [
        {
          "output_type": "execute_result",
          "data": {
            "text/plain": [
              "{numpy.bool_: 1,\n",
              " numpy.bytes_: 0,\n",
              " numpy.complex128: 16,\n",
              " numpy.complex256: 32,\n",
              " numpy.complex64: 8,\n",
              " numpy.datetime64: 8,\n",
              " numpy.float128: 16,\n",
              " numpy.float16: 2,\n",
              " numpy.float32: 4,\n",
              " numpy.float64: 8,\n",
              " numpy.int16: 2,\n",
              " numpy.int32: 4,\n",
              " numpy.int64: 8,\n",
              " numpy.int8: 1,\n",
              " numpy.longlong: 8,\n",
              " numpy.object_: 8,\n",
              " numpy.str_: 0,\n",
              " numpy.timedelta64: 8,\n",
              " numpy.uint16: 2,\n",
              " numpy.uint32: 4,\n",
              " numpy.uint64: 8,\n",
              " numpy.uint8: 1,\n",
              " numpy.ulonglong: 8,\n",
              " numpy.void: 0}"
            ]
          },
          "metadata": {},
          "execution_count": 25
        }
      ]
    },
    {
      "cell_type": "code",
      "source": [
        " a = np.array([1, 2, 3], dtype='int32')"
      ],
      "metadata": {
        "id": "XqcCek4croaG"
      },
      "execution_count": 37,
      "outputs": []
    },
    {
      "cell_type": "code",
      "source": [
        "print(a)"
      ],
      "metadata": {
        "colab": {
          "base_uri": "https://localhost:8080/"
        },
        "id": "McMjlUXJru3-",
        "outputId": "c57f1d4e-24d5-4943-e8b7-d66de63de337"
      },
      "execution_count": 38,
      "outputs": [
        {
          "output_type": "stream",
          "name": "stdout",
          "text": [
            "[1 2 3]\n"
          ]
        }
      ]
    },
    {
      "cell_type": "code",
      "source": [
        "a.ndim#Get dimension"
      ],
      "metadata": {
        "colab": {
          "base_uri": "https://localhost:8080/"
        },
        "id": "vpkCTc22sMog",
        "outputId": "0b031fd7-ab46-4212-fce6-01ac053b75f4"
      },
      "execution_count": 39,
      "outputs": [
        {
          "output_type": "execute_result",
          "data": {
            "text/plain": [
              "1"
            ]
          },
          "metadata": {},
          "execution_count": 39
        }
      ]
    },
    {
      "cell_type": "code",
      "source": [
        "a.shape"
      ],
      "metadata": {
        "colab": {
          "base_uri": "https://localhost:8080/"
        },
        "id": "eZzKDVZCse_G",
        "outputId": "f5280b8f-dae7-4c1b-cdbe-54259a0c83d7"
      },
      "execution_count": 41,
      "outputs": [
        {
          "output_type": "execute_result",
          "data": {
            "text/plain": [
              "(3,)"
            ]
          },
          "metadata": {},
          "execution_count": 41
        }
      ]
    },
    {
      "cell_type": "code",
      "source": [
        "a.dtype"
      ],
      "metadata": {
        "colab": {
          "base_uri": "https://localhost:8080/"
        },
        "id": "XTawHCfhsmQH",
        "outputId": "510d1a8f-6a53-48d9-e0c6-2f6747c72b47"
      },
      "execution_count": 42,
      "outputs": [
        {
          "output_type": "execute_result",
          "data": {
            "text/plain": [
              "dtype('int32')"
            ]
          },
          "metadata": {},
          "execution_count": 42
        }
      ]
    },
    {
      "cell_type": "code",
      "source": [
        "a.itemsize#Size in Bytes"
      ],
      "metadata": {
        "colab": {
          "base_uri": "https://localhost:8080/"
        },
        "id": "efJsrqnPsnyv",
        "outputId": "64626e0d-80a0-4888-82bb-5a4ed1af8589"
      },
      "execution_count": 44,
      "outputs": [
        {
          "output_type": "execute_result",
          "data": {
            "text/plain": [
              "4"
            ]
          },
          "metadata": {},
          "execution_count": 44
        }
      ]
    },
    {
      "cell_type": "code",
      "source": [
        "a.size#Number of elements"
      ],
      "metadata": {
        "colab": {
          "base_uri": "https://localhost:8080/"
        },
        "id": "aHKg4rMKsuwf",
        "outputId": "3df92121-c8d0-4d81-99e8-3c701c6f4b8c"
      },
      "execution_count": 45,
      "outputs": [
        {
          "output_type": "execute_result",
          "data": {
            "text/plain": [
              "3"
            ]
          },
          "metadata": {},
          "execution_count": 45
        }
      ]
    },
    {
      "cell_type": "code",
      "source": [
        "a.size * a.itemsize"
      ],
      "metadata": {
        "colab": {
          "base_uri": "https://localhost:8080/"
        },
        "id": "qSXndRG7szQ2",
        "outputId": "e4b2ec5b-08d8-44b7-dad1-f85ebc4d9bf9"
      },
      "execution_count": 46,
      "outputs": [
        {
          "output_type": "execute_result",
          "data": {
            "text/plain": [
              "12"
            ]
          },
          "metadata": {},
          "execution_count": 46
        }
      ]
    },
    {
      "cell_type": "code",
      "source": [
        "a.nbytes"
      ],
      "metadata": {
        "colab": {
          "base_uri": "https://localhost:8080/"
        },
        "id": "2-b8YNz4s7kI",
        "outputId": "0a831f5d-5aae-41dc-b346-7eaa708f8620"
      },
      "execution_count": 47,
      "outputs": [
        {
          "output_type": "execute_result",
          "data": {
            "text/plain": [
              "12"
            ]
          },
          "metadata": {},
          "execution_count": 47
        }
      ]
    },
    {
      "cell_type": "code",
      "source": [
        "b = np.array([[1.0,2.0,3.0],[3.0,4.0,5.0]])\n",
        "print(b)"
      ],
      "metadata": {
        "colab": {
          "base_uri": "https://localhost:8080/"
        },
        "id": "0jdlKxcNtQu-",
        "outputId": "d50fa437-9513-428b-d06d-b81027b5a6a4"
      },
      "execution_count": 48,
      "outputs": [
        {
          "output_type": "stream",
          "name": "stdout",
          "text": [
            "[[1. 2. 3.]\n",
            " [3. 4. 5.]]\n"
          ]
        }
      ]
    },
    {
      "cell_type": "code",
      "source": [
        "a = np.array([[1, 2, 3, 4, 5], [6, 7, 8, 9, 10]])\n",
        "print(a)\n",
        "# Output:\n",
        "# [[ 1  2  20  4  5]\n",
        "# [ 6  7 20  9 10]]"
      ],
      "metadata": {
        "colab": {
          "base_uri": "https://localhost:8080/"
        },
        "id": "rEFm5iIttdpH",
        "outputId": "b54938c0-75a7-4b7c-baef-0b0f1ead1f87"
      },
      "execution_count": 50,
      "outputs": [
        {
          "output_type": "stream",
          "name": "stdout",
          "text": [
            "[[ 1  2  3  4  5]\n",
            " [ 6  7  8  9 10]]\n"
          ]
        }
      ]
    },
    {
      "cell_type": "code",
      "source": [
        "\n",
        "a[:, 2] = 20\n",
        "print(a)"
      ],
      "metadata": {
        "colab": {
          "base_uri": "https://localhost:8080/"
        },
        "id": "qie7GxcftheW",
        "outputId": "a7dc1ddc-3ca2-4157-a9c0-9fd644d6391a"
      },
      "execution_count": 53,
      "outputs": [
        {
          "output_type": "stream",
          "name": "stdout",
          "text": [
            "[[ 1  2 20  4  5]\n",
            " [ 6  7 20  9 10]]\n"
          ]
        }
      ]
    },
    {
      "cell_type": "markdown",
      "metadata": {
        "id": "B_2Lv9VBc_M0"
      },
      "source": [
        "![green-divider](https://user-images.githubusercontent.com/7065401/52071924-c003ad80-2562-11e9-8297-1c6595f8a7ff.png)\n",
        "\n",
        "## Dimensions and shapes"
      ]
    },
    {
      "cell_type": "markdown",
      "source": [
        "Multidimensional array of 2 rows and 3 columns (2 dimensions: 1 vertical and 1 horizontal)\n"
      ],
      "metadata": {
        "id": "28_psJ1-mHSd"
      }
    },
    {
      "cell_type": "code",
      "execution_count": null,
      "metadata": {
        "id": "3N05VGHJc_M0"
      },
      "outputs": [],
      "source": [
        "A = np.array([\n",
        "    [1, 2, 3],\n",
        "    [4, 5, 6]\n",
        "])"
      ]
    },
    {
      "cell_type": "markdown",
      "source": [
        "**Shape of an Array**\n",
        "\n",
        "The shape of an array is the number of elements in each dimension.\n",
        "\n",
        "NumPy arrays have an attribute called shape that returns a tuple with each index having the number of corresponding elements.\n",
        "import numpy as np\n",
        "\n",
        "arr = np.array([[1, 2, 3, 4], [5, 6, 7, 8]])\n",
        "\n",
        "print(arr.shape)\n",
        "\n",
        "The example above returns (2, 4), which means that the array has 2 dimensions, where the first dimension has 2 elements and the second has 4.\n"
      ],
      "metadata": {
        "id": "wgRoHvhImOJc"
      }
    },
    {
      "cell_type": "code",
      "execution_count": null,
      "metadata": {
        "colab": {
          "base_uri": "https://localhost:8080/"
        },
        "id": "aomxp5Y8c_M0",
        "outputId": "46165a0c-ccc2-4b74-ec85-74427ed31b4b"
      },
      "outputs": [
        {
          "output_type": "execute_result",
          "data": {
            "text/plain": [
              "(2, 3)"
            ]
          },
          "metadata": {},
          "execution_count": 29
        }
      ],
      "source": [
        "A.shape"
      ]
    },
    {
      "cell_type": "markdown",
      "source": [
        "**Number of array dimensions**\n",
        "\n",
        "> Bloque con sangría\n",
        "\n",
        "\n",
        "ndim"
      ],
      "metadata": {
        "id": "JpGCoFbwnHVl"
      }
    },
    {
      "cell_type": "code",
      "execution_count": null,
      "metadata": {
        "colab": {
          "base_uri": "https://localhost:8080/"
        },
        "id": "N_XhHyVOc_M0",
        "outputId": "be134bc6-f940-4cad-fa1a-c6a18ae7aee6"
      },
      "outputs": [
        {
          "output_type": "execute_result",
          "data": {
            "text/plain": [
              "2"
            ]
          },
          "metadata": {},
          "execution_count": 30
        }
      ],
      "source": [
        "A.ndim"
      ]
    },
    {
      "cell_type": "markdown",
      "source": [
        "**Total size of the array**\n",
        "\n",
        "size: total number of elements in the array"
      ],
      "metadata": {
        "id": "3hpjU-zknhEM"
      }
    },
    {
      "cell_type": "code",
      "execution_count": null,
      "metadata": {
        "id": "euoghTOxc_M0",
        "outputId": "81aeef12-8386-4d18-b0d5-31a6933902d5",
        "colab": {
          "base_uri": "https://localhost:8080/"
        }
      },
      "outputs": [
        {
          "output_type": "execute_result",
          "data": {
            "text/plain": [
              "6"
            ]
          },
          "metadata": {},
          "execution_count": 31
        }
      ],
      "source": [
        "A.size"
      ]
    },
    {
      "cell_type": "code",
      "execution_count": null,
      "metadata": {
        "id": "FWKVRNCfc_M0"
      },
      "outputs": [],
      "source": [
        "B = np.array([\n",
        "    [\n",
        "        [12, 11, 10],\n",
        "        [9, 8, 7],\n",
        "    ],\n",
        "    [\n",
        "        [6, 5, 4],\n",
        "        [3, 2, 1]\n",
        "    ]\n",
        "])"
      ]
    },
    {
      "cell_type": "code",
      "execution_count": null,
      "metadata": {
        "colab": {
          "base_uri": "https://localhost:8080/"
        },
        "id": "VVJvhOMXc_M1",
        "outputId": "8d6bc66f-ef6c-448a-dd68-8fd8bc4cbe30"
      },
      "outputs": [
        {
          "output_type": "execute_result",
          "data": {
            "text/plain": [
              "array([[[12, 11, 10],\n",
              "        [ 9,  8,  7]],\n",
              "\n",
              "       [[ 6,  5,  4],\n",
              "        [ 3,  2,  1]]])"
            ]
          },
          "metadata": {},
          "execution_count": 33
        }
      ],
      "source": [
        "B"
      ]
    },
    {
      "cell_type": "code",
      "execution_count": null,
      "metadata": {
        "colab": {
          "base_uri": "https://localhost:8080/"
        },
        "id": "W8pyVcXDc_M1",
        "outputId": "ba2906dc-2e3d-4664-e4d4-a6adef7cc7ae"
      },
      "outputs": [
        {
          "output_type": "execute_result",
          "data": {
            "text/plain": [
              "(2, 2, 3)"
            ]
          },
          "metadata": {},
          "execution_count": 34
        }
      ],
      "source": [
        "B.shape"
      ]
    },
    {
      "cell_type": "code",
      "execution_count": null,
      "metadata": {
        "colab": {
          "base_uri": "https://localhost:8080/"
        },
        "id": "rbEuwwkVc_M1",
        "outputId": "c7e7ccb0-89b1-4ca6-dce6-983140d0e8cf"
      },
      "outputs": [
        {
          "output_type": "execute_result",
          "data": {
            "text/plain": [
              "3"
            ]
          },
          "metadata": {},
          "execution_count": 35
        }
      ],
      "source": [
        "B.ndim"
      ]
    },
    {
      "cell_type": "code",
      "execution_count": null,
      "metadata": {
        "colab": {
          "base_uri": "https://localhost:8080/"
        },
        "id": "EUB1QSuzc_M1",
        "outputId": "23f3831c-c6bd-40a8-d8ae-d36e9a7d0267"
      },
      "outputs": [
        {
          "output_type": "execute_result",
          "data": {
            "text/plain": [
              "12"
            ]
          },
          "metadata": {},
          "execution_count": 36
        }
      ],
      "source": [
        "B.size"
      ]
    },
    {
      "cell_type": "markdown",
      "metadata": {
        "id": "ihzknq72c_M1"
      },
      "source": [
        "**Be careful! **\n",
        "\n",
        "If the shape isn't consistent, it'll just fall back to regular Python objects:\n",
        "\n",
        "If the dimensions do not match, an error will be shown when executed."
      ]
    },
    {
      "cell_type": "code",
      "execution_count": null,
      "metadata": {
        "colab": {
          "base_uri": "https://localhost:8080/"
        },
        "id": "Rf4LthRqc_M1",
        "outputId": "dde1e850-7592-4a07-b55d-1058a71635cc"
      },
      "outputs": [
        {
          "output_type": "stream",
          "name": "stderr",
          "text": [
            "/usr/local/lib/python3.7/dist-packages/ipykernel_launcher.py:7: VisibleDeprecationWarning: Creating an ndarray from ragged nested sequences (which is a list-or-tuple of lists-or-tuples-or ndarrays with different lengths or shapes) is deprecated. If you meant to do this, you must specify 'dtype=object' when creating the ndarray\n",
            "  import sys\n"
          ]
        }
      ],
      "source": [
        "C = np.array([\n",
        "    [\n",
        "        [12, 11, 10],\n",
        "        [9, 8, 7],\n",
        "    ],\n",
        "    [\n",
        "        [6, 5, 4]\n",
        "    ]\n",
        "])"
      ]
    },
    {
      "cell_type": "code",
      "execution_count": null,
      "metadata": {
        "colab": {
          "base_uri": "https://localhost:8080/"
        },
        "id": "L0AYCD1Qc_M1",
        "outputId": "feef10fc-8532-4376-c242-535cc1f2ec1b"
      },
      "outputs": [
        {
          "output_type": "execute_result",
          "data": {
            "text/plain": [
              "dtype('O')"
            ]
          },
          "metadata": {},
          "execution_count": 38
        }
      ],
      "source": [
        "C.dtype"
      ]
    },
    {
      "cell_type": "code",
      "execution_count": null,
      "metadata": {
        "colab": {
          "base_uri": "https://localhost:8080/"
        },
        "id": "Z9zCvbcrc_M3",
        "outputId": "826719ae-e197-4914-9716-0d14179c3354"
      },
      "outputs": [
        {
          "output_type": "execute_result",
          "data": {
            "text/plain": [
              "(2,)"
            ]
          },
          "metadata": {},
          "execution_count": 39
        }
      ],
      "source": [
        "C.shape"
      ]
    },
    {
      "cell_type": "code",
      "execution_count": null,
      "metadata": {
        "colab": {
          "base_uri": "https://localhost:8080/"
        },
        "id": "3QpTHvWic_M3",
        "outputId": "304ef13e-d30a-483d-eb7f-6e06d18f7fab"
      },
      "outputs": [
        {
          "output_type": "execute_result",
          "data": {
            "text/plain": [
              "2"
            ]
          },
          "metadata": {},
          "execution_count": 40
        }
      ],
      "source": [
        "C.size"
      ]
    },
    {
      "cell_type": "code",
      "execution_count": null,
      "metadata": {
        "colab": {
          "base_uri": "https://localhost:8080/"
        },
        "id": "QRAK6Qd2c_M3",
        "outputId": "8814ce18-5161-4002-f194-69c10bf6f33a"
      },
      "outputs": [
        {
          "output_type": "execute_result",
          "data": {
            "text/plain": [
              "list"
            ]
          },
          "metadata": {},
          "execution_count": 41
        }
      ],
      "source": [
        "type(C[0])"
      ]
    },
    {
      "cell_type": "markdown",
      "metadata": {
        "id": "WlyYt6dXc_M3"
      },
      "source": [
        "![green-divider](https://user-images.githubusercontent.com/7065401/52071924-c003ad80-2562-11e9-8297-1c6595f8a7ff.png)\n",
        "\n",
        "## Indexing and Slicing of Matrices"
      ]
    },
    {
      "cell_type": "code",
      "execution_count": null,
      "metadata": {
        "id": "e2lEI_ecc_M3"
      },
      "outputs": [],
      "source": [
        "# Square matrix\n",
        "A = np.array([\n",
        "#.   0. 1. 2\n",
        "    [1, 2, 3], # 0\n",
        "    [4, 5, 6], # 1\n",
        "    [7, 8, 9]  # 2\n",
        "])"
      ]
    },
    {
      "cell_type": "markdown",
      "source": [
        "**Getting rows**\n",
        "\n",
        "Getting the first row:"
      ],
      "metadata": {
        "id": "C2arwkthoJBs"
      }
    },
    {
      "cell_type": "code",
      "execution_count": null,
      "metadata": {
        "colab": {
          "base_uri": "https://localhost:8080/"
        },
        "id": "0_YmPBVLc_M3",
        "outputId": "ce6b4915-9347-4835-d6cb-8550685a5cf6"
      },
      "outputs": [
        {
          "output_type": "execute_result",
          "data": {
            "text/plain": [
              "array([4, 5, 6])"
            ]
          },
          "metadata": {},
          "execution_count": 43
        }
      ],
      "source": [
        "A[1]"
      ]
    },
    {
      "cell_type": "markdown",
      "source": [
        "Getting the first row and the first column element = Getting the element from the first column from the first row"
      ],
      "metadata": {
        "id": "s5wNQcP8oVuM"
      }
    },
    {
      "cell_type": "code",
      "execution_count": null,
      "metadata": {
        "colab": {
          "base_uri": "https://localhost:8080/"
        },
        "id": "vwjEYkdsc_M3",
        "outputId": "cbc393c9-6a03-436c-9079-60252d36369c"
      },
      "outputs": [
        {
          "output_type": "execute_result",
          "data": {
            "text/plain": [
              "4"
            ]
          },
          "metadata": {},
          "execution_count": 44
        }
      ],
      "source": [
        "A[1][0]"
      ]
    },
    {
      "cell_type": "code",
      "execution_count": null,
      "metadata": {
        "id": "AKvckPHIc_M4"
      },
      "outputs": [],
      "source": [
        "# A[d1, d2, d3, d4]"
      ]
    },
    {
      "cell_type": "markdown",
      "source": [
        "**Using dimensional selection of Numpy**\n",
        "\n",
        "A [dimension1, dimension2, dimension3, dimension4...]*texto en cursiva*"
      ],
      "metadata": {
        "id": "JPHawvw3omFW"
      }
    },
    {
      "cell_type": "code",
      "execution_count": null,
      "metadata": {
        "colab": {
          "base_uri": "https://localhost:8080/"
        },
        "id": "DkNJ11Epc_M4",
        "outputId": "adc7f323-e0f1-4b87-9628-f76c97608bfd"
      },
      "outputs": [
        {
          "output_type": "execute_result",
          "data": {
            "text/plain": [
              "4"
            ]
          },
          "metadata": {},
          "execution_count": 46
        }
      ],
      "source": [
        "A[1, 0]"
      ]
    },
    {
      "cell_type": "markdown",
      "source": [
        "Dimensional selection also permits slicing"
      ],
      "metadata": {
        "id": "gR-RHYY0o84U"
      }
    },
    {
      "cell_type": "code",
      "execution_count": null,
      "metadata": {
        "scrolled": true,
        "colab": {
          "base_uri": "https://localhost:8080/"
        },
        "id": "xgptE4GQc_M4",
        "outputId": "b0e3128f-a960-4bbc-9160-3ac49d83487a"
      },
      "outputs": [
        {
          "output_type": "execute_result",
          "data": {
            "text/plain": [
              "array([[1, 2, 3],\n",
              "       [4, 5, 6]])"
            ]
          },
          "metadata": {},
          "execution_count": 47
        }
      ],
      "source": [
        "A[0:2]"
      ]
    },
    {
      "cell_type": "markdown",
      "source": [
        "A = np.array([\n",
        "\n",
        "    [1, 2, 3], # 0\n",
        "\n",
        "    [4, 5, 6], # 1\n",
        "\n",
        "    [7, 8, 9]  # 2\n",
        "\n",
        "])\n",
        "\n",
        "A[:, :2]\n",
        "\n",
        "Rows: All rows\n",
        "\n",
        "Columns: To column 2 (not included)"
      ],
      "metadata": {
        "id": "EBidq4ZWuBq2"
      }
    },
    {
      "cell_type": "code",
      "execution_count": null,
      "metadata": {
        "colab": {
          "base_uri": "https://localhost:8080/"
        },
        "id": "CllQaLBoc_M4",
        "outputId": "c7356e0a-9d9f-4db1-8e42-ede5b85fd487"
      },
      "outputs": [
        {
          "output_type": "execute_result",
          "data": {
            "text/plain": [
              "array([[1, 2],\n",
              "       [4, 5],\n",
              "       [7, 8]])"
            ]
          },
          "metadata": {},
          "execution_count": 48
        }
      ],
      "source": [
        "A[:, :2]"
      ]
    },
    {
      "cell_type": "code",
      "execution_count": null,
      "metadata": {
        "colab": {
          "base_uri": "https://localhost:8080/"
        },
        "id": "zrO_EH-7c_M4",
        "outputId": "9caaa59b-5ef7-42d0-9543-577bc35a0a22"
      },
      "outputs": [
        {
          "output_type": "execute_result",
          "data": {
            "text/plain": [
              "array([[1, 2],\n",
              "       [4, 5]])"
            ]
          },
          "metadata": {},
          "execution_count": 49
        }
      ],
      "source": [
        "A[:2, :2]"
      ]
    },
    {
      "cell_type": "code",
      "execution_count": null,
      "metadata": {
        "colab": {
          "base_uri": "https://localhost:8080/"
        },
        "id": "tQPWvsr3c_M4",
        "outputId": "d63109c4-bd92-4bfb-b996-8d8d40070448"
      },
      "outputs": [
        {
          "output_type": "execute_result",
          "data": {
            "text/plain": [
              "array([[3],\n",
              "       [6]])"
            ]
          },
          "metadata": {},
          "execution_count": 50
        }
      ],
      "source": [
        "A[:2, 2:]"
      ]
    },
    {
      "cell_type": "code",
      "execution_count": null,
      "metadata": {
        "colab": {
          "base_uri": "https://localhost:8080/"
        },
        "id": "owWsqiRpc_M4",
        "outputId": "ae89b44e-4548-4c71-aaba-d8b42f4a9b9d"
      },
      "outputs": [
        {
          "output_type": "execute_result",
          "data": {
            "text/plain": [
              "array([[1, 2, 3],\n",
              "       [4, 5, 6],\n",
              "       [7, 8, 9]])"
            ]
          },
          "metadata": {},
          "execution_count": 51
        }
      ],
      "source": [
        "A"
      ]
    },
    {
      "cell_type": "code",
      "execution_count": null,
      "metadata": {
        "id": "ALwI7r_yc_M4"
      },
      "outputs": [],
      "source": [
        "A[1] = np.array([10, 10, 10])"
      ]
    },
    {
      "cell_type": "code",
      "execution_count": null,
      "metadata": {
        "colab": {
          "base_uri": "https://localhost:8080/"
        },
        "id": "Oxk_CKiIc_M4",
        "outputId": "7f8d5c1f-24b8-44fc-ee24-8c9b435f05b2"
      },
      "outputs": [
        {
          "output_type": "execute_result",
          "data": {
            "text/plain": [
              "array([[ 1,  2,  3],\n",
              "       [10, 10, 10],\n",
              "       [ 7,  8,  9]])"
            ]
          },
          "metadata": {},
          "execution_count": 53
        }
      ],
      "source": [
        "A"
      ]
    },
    {
      "cell_type": "markdown",
      "source": [
        "**Using the expand operation.**\n",
        "\n",
        "Numpy will expande into its corresponding array given the number of dimensions of the array.\n",
        "\n",
        "Example: For row number 2, assign number 99.\n",
        "\n",
        "[99, 99, 99]"
      ],
      "metadata": {
        "id": "citJrE0ipRXz"
      }
    },
    {
      "cell_type": "code",
      "execution_count": null,
      "metadata": {
        "id": "qaxjKKvSc_M4"
      },
      "outputs": [],
      "source": [
        "A[2] = 99"
      ]
    },
    {
      "cell_type": "code",
      "execution_count": null,
      "metadata": {
        "colab": {
          "base_uri": "https://localhost:8080/"
        },
        "id": "LU_VKDDZc_M5",
        "outputId": "8eceb563-cdd7-4c87-b1ca-c0141ea7a1f4"
      },
      "outputs": [
        {
          "output_type": "execute_result",
          "data": {
            "text/plain": [
              "array([[ 1,  2,  3],\n",
              "       [10, 10, 10],\n",
              "       [99, 99, 99]])"
            ]
          },
          "metadata": {},
          "execution_count": 55
        }
      ],
      "source": [
        "A"
      ]
    },
    {
      "cell_type": "markdown",
      "metadata": {
        "id": "F4_dSKvrc_M5"
      },
      "source": [
        "![green-divider](https://user-images.githubusercontent.com/7065401/52071924-c003ad80-2562-11e9-8297-1c6595f8a7ff.png)\n",
        "\n",
        "## Summary statistics"
      ]
    },
    {
      "cell_type": "code",
      "execution_count": null,
      "metadata": {
        "id": "f_k3oZeUc_M5"
      },
      "outputs": [],
      "source": [
        "a = np.array([1, 2, 3, 4])"
      ]
    },
    {
      "cell_type": "markdown",
      "source": [
        "**sum**: Sum of array elements over a given axis."
      ],
      "metadata": {
        "id": "oebbt83dpxSE"
      }
    },
    {
      "cell_type": "code",
      "execution_count": null,
      "metadata": {
        "colab": {
          "base_uri": "https://localhost:8080/"
        },
        "id": "y4IWRMruc_M5",
        "outputId": "6dd747e4-820e-4682-f740-456ac0fd9f8d"
      },
      "outputs": [
        {
          "output_type": "execute_result",
          "data": {
            "text/plain": [
              "10"
            ]
          },
          "metadata": {},
          "execution_count": 57
        }
      ],
      "source": [
        "a.sum()"
      ]
    },
    {
      "cell_type": "markdown",
      "source": [
        "**mean**: Compute the arithmetic mean along the specified axis."
      ],
      "metadata": {
        "id": "bOtQaShAp40z"
      }
    },
    {
      "cell_type": "code",
      "execution_count": null,
      "metadata": {
        "colab": {
          "base_uri": "https://localhost:8080/"
        },
        "id": "japwZN7oc_M5",
        "outputId": "ebc05c72-a08a-4a56-fbe0-d4d22e6f5560"
      },
      "outputs": [
        {
          "output_type": "execute_result",
          "data": {
            "text/plain": [
              "2.5"
            ]
          },
          "metadata": {},
          "execution_count": 58
        }
      ],
      "source": [
        "a.mean()"
      ]
    },
    {
      "cell_type": "markdown",
      "source": [
        "**std**: Compute the **standard deviation** along the specified axis."
      ],
      "metadata": {
        "id": "zzGC0GTEqE98"
      }
    },
    {
      "cell_type": "code",
      "execution_count": null,
      "metadata": {
        "colab": {
          "base_uri": "https://localhost:8080/"
        },
        "id": "I7qJ0fzgc_M5",
        "outputId": "da461bc4-9edd-4201-d6ef-914f3d82c15a"
      },
      "outputs": [
        {
          "output_type": "execute_result",
          "data": {
            "text/plain": [
              "1.118033988749895"
            ]
          },
          "metadata": {},
          "execution_count": 59
        }
      ],
      "source": [
        "a.std()"
      ]
    },
    {
      "cell_type": "markdown",
      "source": [
        "**var**: Compute the **variance** along the specified axis"
      ],
      "metadata": {
        "id": "nqK8SPEXqL8b"
      }
    },
    {
      "cell_type": "code",
      "execution_count": null,
      "metadata": {
        "colab": {
          "base_uri": "https://localhost:8080/"
        },
        "id": "l3w6AHFDc_M5",
        "outputId": "98630527-12ae-41cc-d4d3-6d7eb8f1f14c"
      },
      "outputs": [
        {
          "output_type": "execute_result",
          "data": {
            "text/plain": [
              "1.25"
            ]
          },
          "metadata": {},
          "execution_count": 60
        }
      ],
      "source": [
        "a.var()"
      ]
    },
    {
      "cell_type": "code",
      "execution_count": null,
      "metadata": {
        "id": "hgp5tNXqc_M5"
      },
      "outputs": [],
      "source": [
        "A = np.array([\n",
        "    [1, 2, 3],\n",
        "    [4, 5, 6],\n",
        "    [7, 8, 9]\n",
        "])"
      ]
    },
    {
      "cell_type": "code",
      "execution_count": null,
      "metadata": {
        "colab": {
          "base_uri": "https://localhost:8080/"
        },
        "id": "DJ7fl7BVc_M5",
        "outputId": "6f716f23-5eab-4b81-b504-646b20df6b93"
      },
      "outputs": [
        {
          "output_type": "execute_result",
          "data": {
            "text/plain": [
              "45"
            ]
          },
          "metadata": {},
          "execution_count": 62
        }
      ],
      "source": [
        "A.sum()"
      ]
    },
    {
      "cell_type": "code",
      "execution_count": null,
      "metadata": {
        "colab": {
          "base_uri": "https://localhost:8080/"
        },
        "id": "V5dMN7Acc_M5",
        "outputId": "7a7d9379-5c71-4716-d2ed-85eac6f2c3b1"
      },
      "outputs": [
        {
          "output_type": "execute_result",
          "data": {
            "text/plain": [
              "5.0"
            ]
          },
          "metadata": {},
          "execution_count": 63
        }
      ],
      "source": [
        "A.mean()"
      ]
    },
    {
      "cell_type": "code",
      "execution_count": null,
      "metadata": {
        "colab": {
          "base_uri": "https://localhost:8080/"
        },
        "id": "wlnEmRXuc_M5",
        "outputId": "0cc4f968-b4fb-4290-aace-f666d2606bfd"
      },
      "outputs": [
        {
          "output_type": "execute_result",
          "data": {
            "text/plain": [
              "2.581988897471611"
            ]
          },
          "metadata": {},
          "execution_count": 64
        }
      ],
      "source": [
        "A.std()"
      ]
    },
    {
      "cell_type": "markdown",
      "source": [
        "A = np.array([\n",
        "\n",
        "    [1, 2, 3],\n",
        "\n",
        "    [4, 5, 6],\n",
        "\n",
        "    [7, 8, 9]\n",
        "\n",
        "])\n",
        "\n",
        "A.sum(axis=0)\n",
        "\n",
        "sum of the first column = 1 + 4 + 7 = 12\n",
        "\n",
        "sum of the second column = 2 + 5 + 8 = 15\n",
        "\n",
        "sum of the third column = 3 + 6 + 9 = 18\n",
        "\n",
        "Result: array([12, 15, 18])\n"
      ],
      "metadata": {
        "id": "GlXscV84sUL6"
      }
    },
    {
      "cell_type": "code",
      "execution_count": null,
      "metadata": {
        "colab": {
          "base_uri": "https://localhost:8080/"
        },
        "id": "uuH-OJ1Rc_M6",
        "outputId": "cb289507-7ef7-46f8-e89e-dd778b7ea7bb"
      },
      "outputs": [
        {
          "output_type": "execute_result",
          "data": {
            "text/plain": [
              "array([12, 15, 18])"
            ]
          },
          "metadata": {},
          "execution_count": 65
        }
      ],
      "source": [
        "A.sum(axis=0)"
      ]
    },
    {
      "cell_type": "markdown",
      "source": [
        "A = np.array([\n",
        "    [1, 2, 3],\n",
        "    [4, 5, 6],\n",
        "    [7, 8, 9]\n",
        "])\n",
        "\n",
        "A.sum(axis=1)\n",
        "\n",
        "sum of the first row = 1 + 2 + 3 = 6\n",
        "\n",
        "sum of the second row = 4 + 5 + 6 = 15\n",
        "\n",
        "sum of the third row = 7 + 8 + 9 = 24\n",
        "\n",
        "Result: array([6, 15, 24])"
      ],
      "metadata": {
        "id": "k_J7vo9vs3tO"
      }
    },
    {
      "cell_type": "code",
      "execution_count": null,
      "metadata": {
        "colab": {
          "base_uri": "https://localhost:8080/"
        },
        "id": "_DtuGSnCc_M6",
        "outputId": "4e9093f6-bc82-42ba-9775-2790f2e48e9c"
      },
      "outputs": [
        {
          "output_type": "execute_result",
          "data": {
            "text/plain": [
              "array([ 6, 15, 24])"
            ]
          },
          "metadata": {},
          "execution_count": 66
        }
      ],
      "source": [
        "A.sum(axis=1)"
      ]
    },
    {
      "cell_type": "code",
      "execution_count": null,
      "metadata": {
        "scrolled": true,
        "colab": {
          "base_uri": "https://localhost:8080/"
        },
        "id": "UVOx1-z6c_M6",
        "outputId": "9b494e62-871d-416e-c33a-23d3e0e0d88c"
      },
      "outputs": [
        {
          "output_type": "execute_result",
          "data": {
            "text/plain": [
              "array([4., 5., 6.])"
            ]
          },
          "metadata": {},
          "execution_count": 67
        }
      ],
      "source": [
        "A.mean(axis=0)"
      ]
    },
    {
      "cell_type": "code",
      "execution_count": null,
      "metadata": {
        "colab": {
          "base_uri": "https://localhost:8080/"
        },
        "id": "QA9TjQEkc_M6",
        "outputId": "1723b139-ac3a-408d-ed15-c11fdb955482"
      },
      "outputs": [
        {
          "output_type": "execute_result",
          "data": {
            "text/plain": [
              "array([2., 5., 8.])"
            ]
          },
          "metadata": {},
          "execution_count": 68
        }
      ],
      "source": [
        "A.mean(axis=1)"
      ]
    },
    {
      "cell_type": "code",
      "execution_count": null,
      "metadata": {
        "colab": {
          "base_uri": "https://localhost:8080/"
        },
        "id": "_Ag9PQDVc_M6",
        "outputId": "cfc36c94-90ac-4db6-d59d-1a11f991ee56"
      },
      "outputs": [
        {
          "output_type": "execute_result",
          "data": {
            "text/plain": [
              "array([2.44948974, 2.44948974, 2.44948974])"
            ]
          },
          "metadata": {},
          "execution_count": 69
        }
      ],
      "source": [
        "A.std(axis=0)"
      ]
    },
    {
      "cell_type": "code",
      "execution_count": null,
      "metadata": {
        "scrolled": true,
        "colab": {
          "base_uri": "https://localhost:8080/"
        },
        "id": "62NjfJHTc_M6",
        "outputId": "d3a2d4d3-924d-4c91-af39-9d0921953419"
      },
      "outputs": [
        {
          "output_type": "execute_result",
          "data": {
            "text/plain": [
              "array([0.81649658, 0.81649658, 0.81649658])"
            ]
          },
          "metadata": {},
          "execution_count": 70
        }
      ],
      "source": [
        "A.std(axis=1)"
      ]
    },
    {
      "cell_type": "markdown",
      "source": [
        "Ejercicio:"
      ],
      "metadata": {
        "id": "riUyoC6vtx20"
      }
    },
    {
      "cell_type": "code",
      "source": [
        "A = np.array([\n",
        "    ['a', 'b', 'c'],\n",
        "    ['d', 'e', 'f'],\n",
        "    ['g', 'h', 'i']\n",
        "])"
      ],
      "metadata": {
        "id": "rhJxA_AVtuom"
      },
      "execution_count": null,
      "outputs": []
    },
    {
      "cell_type": "markdown",
      "source": [
        "print(A[:, :2])\n",
        "\n",
        "Rows: All rows\n",
        "\n",
        "Columns: To column 2 (not included)\n",
        "\n",
        "A = np.array([\n",
        "\n",
        "    ['a', 'b'],\n",
        "\n",
        "    ['d', 'e'],\n",
        "\n",
        "    ['g', 'h']\n",
        "\n",
        "])"
      ],
      "metadata": {
        "id": "EdFxBpmctzad"
      }
    },
    {
      "cell_type": "code",
      "source": [
        "print(A[:, :2])"
      ],
      "metadata": {
        "id": "5OrnvujHunkG",
        "outputId": "ced4cf78-6147-4e3c-8483-4ae7e7e0430b",
        "colab": {
          "base_uri": "https://localhost:8080/"
        }
      },
      "execution_count": null,
      "outputs": [
        {
          "output_type": "stream",
          "name": "stdout",
          "text": [
            "[['a' 'b']\n",
            " ['d' 'e']\n",
            " ['g' 'h']]\n"
          ]
        }
      ]
    },
    {
      "cell_type": "markdown",
      "metadata": {
        "id": "F3QadawKc_M6"
      },
      "source": [
        "And [many more](https://docs.scipy.org/doc/numpy-1.13.0/reference/arrays.ndarray.html#array-methods)..."
      ]
    },
    {
      "cell_type": "markdown",
      "metadata": {
        "id": "DHeqYiqFc_M6"
      },
      "source": [
        "![green-divider](https://user-images.githubusercontent.com/7065401/52071924-c003ad80-2562-11e9-8297-1c6595f8a7ff.png)\n",
        "\n",
        "## Broadcasting and Vectorized operations"
      ]
    },
    {
      "cell_type": "markdown",
      "source": [
        "These operations are very related to Boolean arrays."
      ],
      "metadata": {
        "id": "zLb0fY9suxht"
      }
    },
    {
      "cell_type": "markdown",
      "source": [
        "**arange**: Return evenly spaced values within a given interval."
      ],
      "metadata": {
        "id": "gouYGTTZu-1L"
      }
    },
    {
      "cell_type": "code",
      "execution_count": null,
      "metadata": {
        "id": "Ha5xESAfc_M6"
      },
      "outputs": [],
      "source": [
        "a = np.arange(4)"
      ]
    },
    {
      "cell_type": "code",
      "execution_count": null,
      "metadata": {
        "colab": {
          "base_uri": "https://localhost:8080/"
        },
        "id": "6Bx9obNhc_M6",
        "outputId": "86de5ca5-2000-4c19-eb07-ba75c0944cfb"
      },
      "outputs": [
        {
          "output_type": "execute_result",
          "data": {
            "text/plain": [
              "array([0, 1, 2, 3])"
            ]
          },
          "metadata": {},
          "execution_count": 74
        }
      ],
      "source": [
        "a"
      ]
    },
    {
      "cell_type": "markdown",
      "source": [
        "Sum the entire array + 10 (sum 10 to each element of the array):"
      ],
      "metadata": {
        "id": "7vVysyEYvEMc"
      }
    },
    {
      "cell_type": "code",
      "execution_count": null,
      "metadata": {
        "colab": {
          "base_uri": "https://localhost:8080/"
        },
        "id": "JWbcPFlPc_M6",
        "outputId": "7facf4ce-2d0c-4449-ced5-4bba4b7acf6e"
      },
      "outputs": [
        {
          "output_type": "execute_result",
          "data": {
            "text/plain": [
              "array([10, 11, 12, 13])"
            ]
          },
          "metadata": {},
          "execution_count": 75
        }
      ],
      "source": [
        "a + 10"
      ]
    },
    {
      "cell_type": "markdown",
      "source": [
        "Multiply the entire array + 10 (Multiply each element of the array * 10):"
      ],
      "metadata": {
        "id": "QjJXan7lvN7z"
      }
    },
    {
      "cell_type": "code",
      "execution_count": null,
      "metadata": {
        "colab": {
          "base_uri": "https://localhost:8080/"
        },
        "id": "IWbjaw2Mc_M7",
        "outputId": "e6dc0c86-29e3-4f1e-af24-d30a6815eb02"
      },
      "outputs": [
        {
          "output_type": "execute_result",
          "data": {
            "text/plain": [
              "array([ 0, 10, 20, 30])"
            ]
          },
          "metadata": {},
          "execution_count": 76
        }
      ],
      "source": [
        "a * 10"
      ]
    },
    {
      "cell_type": "markdown",
      "source": [
        "These operations create and return a new array. A has not changed."
      ],
      "metadata": {
        "id": "MpTk7c69vepN"
      }
    },
    {
      "cell_type": "code",
      "execution_count": null,
      "metadata": {
        "colab": {
          "base_uri": "https://localhost:8080/"
        },
        "id": "QHzlXBxKc_M7",
        "outputId": "dba2c85a-7402-4b0e-8441-78b587551a39"
      },
      "outputs": [
        {
          "output_type": "execute_result",
          "data": {
            "text/plain": [
              "array([0, 1, 2, 3])"
            ]
          },
          "metadata": {},
          "execution_count": 77
        }
      ],
      "source": [
        "a"
      ]
    },
    {
      "cell_type": "markdown",
      "source": [
        "However, using += it will modify A"
      ],
      "metadata": {
        "id": "KofQhuy3vpEz"
      }
    },
    {
      "cell_type": "code",
      "execution_count": null,
      "metadata": {
        "id": "bxp9u9SEc_M7"
      },
      "outputs": [],
      "source": [
        "a += 100"
      ]
    },
    {
      "cell_type": "code",
      "execution_count": null,
      "metadata": {
        "colab": {
          "base_uri": "https://localhost:8080/"
        },
        "id": "BHgstU5Qc_M7",
        "outputId": "ce6f1cd3-5fc0-45ac-d77d-3dcf80d0bea9"
      },
      "outputs": [
        {
          "output_type": "execute_result",
          "data": {
            "text/plain": [
              "array([100, 101, 102, 103])"
            ]
          },
          "metadata": {},
          "execution_count": 79
        }
      ],
      "source": [
        "a"
      ]
    },
    {
      "cell_type": "code",
      "execution_count": null,
      "metadata": {
        "id": "J6XNxal3c_M7"
      },
      "outputs": [],
      "source": [
        "l = [0, 1, 2, 3]"
      ]
    },
    {
      "cell_type": "code",
      "execution_count": null,
      "metadata": {
        "colab": {
          "base_uri": "https://localhost:8080/"
        },
        "id": "Ye45PtT7c_M7",
        "outputId": "37be4ff6-fb56-43f2-c538-bfa5ff4b8437"
      },
      "outputs": [
        {
          "output_type": "execute_result",
          "data": {
            "text/plain": [
              "[0, 10, 20, 30]"
            ]
          },
          "metadata": {},
          "execution_count": 81
        }
      ],
      "source": [
        "[i * 10 for i in l]"
      ]
    },
    {
      "cell_type": "code",
      "execution_count": null,
      "metadata": {
        "id": "3LqA9xS8c_M7"
      },
      "outputs": [],
      "source": [
        "a = np.arange(4)"
      ]
    },
    {
      "cell_type": "code",
      "execution_count": null,
      "metadata": {
        "colab": {
          "base_uri": "https://localhost:8080/"
        },
        "id": "x8EjIfvPc_M7",
        "outputId": "565c7d4f-876b-4e0b-d401-af059cfe73fb"
      },
      "outputs": [
        {
          "output_type": "execute_result",
          "data": {
            "text/plain": [
              "array([0, 1, 2, 3])"
            ]
          },
          "metadata": {},
          "execution_count": 83
        }
      ],
      "source": [
        "a"
      ]
    },
    {
      "cell_type": "code",
      "execution_count": null,
      "metadata": {
        "id": "5Z4bZKvwc_M7"
      },
      "outputs": [],
      "source": [
        "b = np.array([10, 10, 10, 10])"
      ]
    },
    {
      "cell_type": "code",
      "execution_count": null,
      "metadata": {
        "colab": {
          "base_uri": "https://localhost:8080/"
        },
        "id": "ijtKUBUIc_M7",
        "outputId": "c144fc7a-ca3f-4061-b1de-2d6d3844626f"
      },
      "outputs": [
        {
          "output_type": "execute_result",
          "data": {
            "text/plain": [
              "array([10, 10, 10, 10])"
            ]
          },
          "metadata": {},
          "execution_count": 85
        }
      ],
      "source": [
        "b"
      ]
    },
    {
      "cell_type": "markdown",
      "source": [
        "Exercise:"
      ],
      "metadata": {
        "id": "W7WzZFWFwrk9"
      }
    },
    {
      "cell_type": "code",
      "source": [
        "a = np.arange(5)"
      ],
      "metadata": {
        "id": "XVQ4uYLBwoWF"
      },
      "execution_count": null,
      "outputs": []
    },
    {
      "cell_type": "code",
      "source": [
        "a"
      ],
      "metadata": {
        "id": "yodsYB2AwtMz",
        "outputId": "0bfb2ff4-971f-4196-cc06-c270a94e7d47",
        "colab": {
          "base_uri": "https://localhost:8080/"
        }
      },
      "execution_count": null,
      "outputs": [
        {
          "output_type": "execute_result",
          "data": {
            "text/plain": [
              "array([0, 1, 2, 3, 4])"
            ]
          },
          "metadata": {},
          "execution_count": 87
        }
      ]
    },
    {
      "cell_type": "code",
      "source": [
        "a + 20"
      ],
      "metadata": {
        "id": "uenbt4kLwuzl",
        "outputId": "77b49b7a-b304-488f-b940-9ac06029331e",
        "colab": {
          "base_uri": "https://localhost:8080/"
        }
      },
      "execution_count": null,
      "outputs": [
        {
          "output_type": "execute_result",
          "data": {
            "text/plain": [
              "array([20, 21, 22, 23, 24])"
            ]
          },
          "metadata": {},
          "execution_count": 88
        }
      ]
    },
    {
      "cell_type": "markdown",
      "source": [
        "The value of a is not changed."
      ],
      "metadata": {
        "id": "x9WseMCLw0oF"
      }
    },
    {
      "cell_type": "code",
      "source": [
        "a"
      ],
      "metadata": {
        "id": "do0ICPd3w6dN",
        "outputId": "2faee340-1f67-4cb9-925d-2473504d9059",
        "colab": {
          "base_uri": "https://localhost:8080/"
        }
      },
      "execution_count": null,
      "outputs": [
        {
          "output_type": "execute_result",
          "data": {
            "text/plain": [
              "array([0, 1, 2, 3, 4])"
            ]
          },
          "metadata": {},
          "execution_count": 89
        }
      ]
    },
    {
      "cell_type": "markdown",
      "source": [
        "**Sum of arrays**\n",
        "\n",
        "The arrays need to have the same shape.\n",
        "\n",
        "a = [0, 1, 2, 3]\n",
        "\n",
        "b = [10, 10, 10, 10]\n",
        "\n",
        "a + b = [0+10, 1+10, 2+10, 3+10] = [10, 11, 12, 13]\n",
        "\n",
        "\n",
        "\n"
      ],
      "metadata": {
        "id": "fedOqWDnv720"
      }
    },
    {
      "cell_type": "code",
      "execution_count": null,
      "metadata": {
        "colab": {
          "base_uri": "https://localhost:8080/",
          "height": 165
        },
        "id": "xqaI7NwHc_M7",
        "outputId": "535c8c2f-a62c-461e-a614-fe50b2822faa"
      },
      "outputs": [
        {
          "output_type": "error",
          "ename": "ValueError",
          "evalue": "ignored",
          "traceback": [
            "\u001b[0;31m---------------------------------------------------------------------------\u001b[0m",
            "\u001b[0;31mValueError\u001b[0m                                Traceback (most recent call last)",
            "\u001b[0;32m<ipython-input-90-bd58363a63fc>\u001b[0m in \u001b[0;36m<module>\u001b[0;34m()\u001b[0m\n\u001b[0;32m----> 1\u001b[0;31m \u001b[0ma\u001b[0m \u001b[0;34m+\u001b[0m \u001b[0mb\u001b[0m\u001b[0;34m\u001b[0m\u001b[0;34m\u001b[0m\u001b[0m\n\u001b[0m",
            "\u001b[0;31mValueError\u001b[0m: operands could not be broadcast together with shapes (5,) (4,) "
          ]
        }
      ],
      "source": [
        "a + b"
      ]
    },
    {
      "cell_type": "markdown",
      "source": [
        "**Multiplication of arrays**"
      ],
      "metadata": {
        "id": "qMeUke0UwV5M"
      }
    },
    {
      "cell_type": "code",
      "execution_count": null,
      "metadata": {
        "colab": {
          "base_uri": "https://localhost:8080/",
          "height": 165
        },
        "id": "8UZdib7gc_M8",
        "outputId": "953228c9-1fdb-4de9-9488-aaf8dac44b3f"
      },
      "outputs": [
        {
          "output_type": "error",
          "ename": "ValueError",
          "evalue": "ignored",
          "traceback": [
            "\u001b[0;31m---------------------------------------------------------------------------\u001b[0m",
            "\u001b[0;31mValueError\u001b[0m                                Traceback (most recent call last)",
            "\u001b[0;32m<ipython-input-91-9bc1a869709f>\u001b[0m in \u001b[0;36m<module>\u001b[0;34m()\u001b[0m\n\u001b[0;32m----> 1\u001b[0;31m \u001b[0ma\u001b[0m \u001b[0;34m*\u001b[0m \u001b[0mb\u001b[0m\u001b[0;34m\u001b[0m\u001b[0;34m\u001b[0m\u001b[0m\n\u001b[0m",
            "\u001b[0;31mValueError\u001b[0m: operands could not be broadcast together with shapes (5,) (4,) "
          ]
        }
      ],
      "source": [
        "a * b"
      ]
    },
    {
      "cell_type": "markdown",
      "metadata": {
        "id": "EODnc70rc_M8"
      },
      "source": [
        "![green-divider](https://user-images.githubusercontent.com/7065401/52071924-c003ad80-2562-11e9-8297-1c6595f8a7ff.png)\n",
        "\n",
        "## Boolean arrays\n",
        "_(Also called masks)_\n",
        "\n",
        "Boolean arrays are similar to vectorized operations"
      ]
    },
    {
      "cell_type": "code",
      "execution_count": null,
      "metadata": {
        "id": "rKmjuz6tc_M8"
      },
      "outputs": [],
      "source": [
        "a = np.arange(4)"
      ]
    },
    {
      "cell_type": "code",
      "execution_count": null,
      "metadata": {
        "colab": {
          "base_uri": "https://localhost:8080/"
        },
        "id": "7P6r4zQTc_M8",
        "outputId": "28789d68-0003-4a4b-8a5c-31ec4fb161ad"
      },
      "outputs": [
        {
          "output_type": "execute_result",
          "data": {
            "text/plain": [
              "array([0, 1, 2, 3, 4])"
            ]
          },
          "metadata": {},
          "execution_count": 92
        }
      ],
      "source": [
        "a"
      ]
    },
    {
      "cell_type": "markdown",
      "source": [
        "**Accesing items of the array**\n",
        "Examples getting the First and Last element of the array"
      ],
      "metadata": {
        "id": "DQXHeBitkiji"
      }
    },
    {
      "cell_type": "markdown",
      "source": [
        "1. Traditional Python"
      ],
      "metadata": {
        "id": "mtqMYe4dkmX6"
      }
    },
    {
      "cell_type": "code",
      "execution_count": null,
      "metadata": {
        "colab": {
          "base_uri": "https://localhost:8080/"
        },
        "id": "Cy6muRzgc_M8",
        "outputId": "9dfde0ef-49ef-47f0-aebf-ced8653aec9d"
      },
      "outputs": [
        {
          "output_type": "execute_result",
          "data": {
            "text/plain": [
              "(0, 4)"
            ]
          },
          "metadata": {},
          "execution_count": 93
        }
      ],
      "source": [
        "a[0], a[-1]"
      ]
    },
    {
      "cell_type": "markdown",
      "source": [
        "2. Using Numpy multi-index selection"
      ],
      "metadata": {
        "id": "S9I8tNrtkhyU"
      }
    },
    {
      "cell_type": "code",
      "execution_count": null,
      "metadata": {
        "colab": {
          "base_uri": "https://localhost:8080/"
        },
        "id": "Druc4zFUc_M8",
        "outputId": "33664cf2-ade9-4ce2-aa66-432aa4a181e3"
      },
      "outputs": [
        {
          "output_type": "execute_result",
          "data": {
            "text/plain": [
              "array([0, 4])"
            ]
          },
          "metadata": {},
          "execution_count": 94
        }
      ],
      "source": [
        "a[[0, -1]]"
      ]
    },
    {
      "cell_type": "markdown",
      "source": [
        "3. Using Boolean arrays\n",
        "\n",
        "True - select the element in that position\n",
        "False - do not select the element in that position"
      ],
      "metadata": {
        "id": "_m03spHjkyWr"
      }
    },
    {
      "cell_type": "code",
      "execution_count": null,
      "metadata": {
        "id": "Na_obvF8c_M8",
        "outputId": "33552e51-8040-46ee-fec3-59f3a952b391"
      },
      "outputs": [
        {
          "data": {
            "text/plain": [
              "array([0, 3])"
            ]
          },
          "execution_count": 86,
          "metadata": {},
          "output_type": "execute_result"
        }
      ],
      "source": [
        "a[[True, False, False, True]]"
      ]
    },
    {
      "cell_type": "markdown",
      "source": [
        "This solution is not scalable. "
      ],
      "metadata": {
        "id": "7FQRyJSCkxp5"
      }
    },
    {
      "cell_type": "code",
      "execution_count": null,
      "metadata": {
        "id": "fVnaVXXec_M8",
        "outputId": "d820f1ed-eda1-4e86-a6b1-2639a42eb4a5",
        "colab": {
          "base_uri": "https://localhost:8080/"
        }
      },
      "outputs": [
        {
          "output_type": "execute_result",
          "data": {
            "text/plain": [
              "array([0, 1, 2, 3, 4])"
            ]
          },
          "metadata": {},
          "execution_count": 95
        }
      ],
      "source": [
        "a"
      ]
    },
    {
      "cell_type": "markdown",
      "source": [
        "Using boolean Operations.\n",
        "If we check if a >= 2 we get a boolean array with all the individual elements that match this condition will have true and false."
      ],
      "metadata": {
        "id": "020r_znUltMq"
      }
    },
    {
      "cell_type": "code",
      "execution_count": null,
      "metadata": {
        "id": "mxDrqluwc_M8",
        "outputId": "cc2f7685-a2be-4169-caca-2fb3949bdc60",
        "colab": {
          "base_uri": "https://localhost:8080/"
        }
      },
      "outputs": [
        {
          "output_type": "execute_result",
          "data": {
            "text/plain": [
              "array([False, False,  True,  True,  True])"
            ]
          },
          "metadata": {},
          "execution_count": 96
        }
      ],
      "source": [
        "a >= 2"
      ]
    },
    {
      "cell_type": "markdown",
      "source": [
        "Combining the Boolean Operations with the Boolean seleccion we can filter arrays. It is a query method. It gives a new array that match a condition."
      ],
      "metadata": {
        "id": "Iw-dgJxfnym6"
      }
    },
    {
      "cell_type": "code",
      "execution_count": null,
      "metadata": {
        "id": "jPV1dI0Fc_M8",
        "outputId": "6bbef9da-d9d2-4701-a8b7-69ac28081a2a"
      },
      "outputs": [
        {
          "data": {
            "text/plain": [
              "array([2, 3])"
            ]
          },
          "execution_count": 90,
          "metadata": {},
          "output_type": "execute_result"
        }
      ],
      "source": [
        "a[a >= 2]"
      ]
    },
    {
      "cell_type": "code",
      "execution_count": null,
      "metadata": {
        "id": "VwYXwi34c_M8",
        "outputId": "b20ed0c0-d73c-41e1-9ade-155aaa4bc296"
      },
      "outputs": [
        {
          "data": {
            "text/plain": [
              "1.5"
            ]
          },
          "execution_count": 91,
          "metadata": {},
          "output_type": "execute_result"
        }
      ],
      "source": [
        "a.mean()"
      ]
    },
    {
      "cell_type": "code",
      "execution_count": null,
      "metadata": {
        "scrolled": true,
        "id": "GwTef0nHc_M8",
        "outputId": "ec9a3984-cb1c-425a-a50f-852fbd31472e",
        "colab": {
          "base_uri": "https://localhost:8080/"
        }
      },
      "outputs": [
        {
          "output_type": "execute_result",
          "data": {
            "text/plain": [
              "array([3, 4])"
            ]
          },
          "metadata": {},
          "execution_count": 97
        }
      ],
      "source": [
        "a[a > a.mean()]"
      ]
    },
    {
      "cell_type": "markdown",
      "source": [
        "Get the elements different than the mean"
      ],
      "metadata": {
        "id": "oDDK_Wx_oPFj"
      }
    },
    {
      "cell_type": "code",
      "execution_count": null,
      "metadata": {
        "id": "ZMZUy34Rc_M9",
        "outputId": "fdb20f3b-aad9-4c08-b193-1330199a9ead",
        "colab": {
          "base_uri": "https://localhost:8080/"
        }
      },
      "outputs": [
        {
          "output_type": "execute_result",
          "data": {
            "text/plain": [
              "array([0, 1, 2])"
            ]
          },
          "metadata": {},
          "execution_count": 98
        }
      ],
      "source": [
        "a[~(a > a.mean())]"
      ]
    },
    {
      "cell_type": "markdown",
      "source": [
        "Combining operations with the OR Operator (|)"
      ],
      "metadata": {
        "id": "ow1hbqkBoUKq"
      }
    },
    {
      "cell_type": "code",
      "execution_count": null,
      "metadata": {
        "id": "BMk1h0p7c_M9",
        "outputId": "faa28ca9-f7e7-474f-d0d5-22f2217734d5",
        "colab": {
          "base_uri": "https://localhost:8080/"
        }
      },
      "outputs": [
        {
          "output_type": "execute_result",
          "data": {
            "text/plain": [
              "array([0, 1])"
            ]
          },
          "metadata": {},
          "execution_count": 101
        }
      ],
      "source": [
        "a[(a == 0) | (a == 1)]"
      ]
    },
    {
      "cell_type": "markdown",
      "source": [
        "Combining operations with the AND Operator (&)"
      ],
      "metadata": {
        "id": "moW2J-8GoXMj"
      }
    },
    {
      "cell_type": "code",
      "execution_count": null,
      "metadata": {
        "id": "Fakf88fJc_M9",
        "outputId": "0b490367-1f14-4356-a70b-aef154e04c9a",
        "colab": {
          "base_uri": "https://localhost:8080/"
        }
      },
      "outputs": [
        {
          "output_type": "execute_result",
          "data": {
            "text/plain": [
              "array([0, 2])"
            ]
          },
          "metadata": {},
          "execution_count": 102
        }
      ],
      "source": [
        "a[(a <= 2) & (a % 2 == 0)]"
      ]
    },
    {
      "cell_type": "code",
      "execution_count": null,
      "metadata": {
        "id": "LaHBOxy4c_M9"
      },
      "outputs": [],
      "source": [
        "A = np.random.randint(100, size=(3, 3))"
      ]
    },
    {
      "cell_type": "code",
      "execution_count": null,
      "metadata": {
        "id": "TTI4YG5Gc_M9",
        "outputId": "65246214-8dd9-472a-9914-5b5d01f1cc13",
        "colab": {
          "base_uri": "https://localhost:8080/"
        }
      },
      "outputs": [
        {
          "output_type": "execute_result",
          "data": {
            "text/plain": [
              "array([[ 9, 99, 80],\n",
              "       [ 9, 47, 44],\n",
              "       [47, 68,  2]])"
            ]
          },
          "metadata": {},
          "execution_count": 104
        }
      ],
      "source": [
        "A"
      ]
    },
    {
      "cell_type": "code",
      "execution_count": null,
      "metadata": {
        "id": "hW16izSFc_M9",
        "outputId": "407cec6a-eb86-4120-c187-fd7636465a89",
        "colab": {
          "base_uri": "https://localhost:8080/"
        }
      },
      "outputs": [
        {
          "output_type": "execute_result",
          "data": {
            "text/plain": [
              "array([ 9, 80, 47, 47,  2])"
            ]
          },
          "metadata": {},
          "execution_count": 105
        }
      ],
      "source": [
        "A[np.array([\n",
        "    [True, False, True],\n",
        "    [False, True, False],\n",
        "    [True, False, True]\n",
        "])]"
      ]
    },
    {
      "cell_type": "markdown",
      "source": [
        "Instead of writing the Boolean array manually, we run a query filtering option, a Boolean Operation which results in a Boolean array that we can use it as filtering."
      ],
      "metadata": {
        "id": "sBBvBHl9orTT"
      }
    },
    {
      "cell_type": "code",
      "execution_count": null,
      "metadata": {
        "id": "8zHAiaksc_M9",
        "outputId": "f0be4d70-4b76-47a3-f713-15c723c26427",
        "colab": {
          "base_uri": "https://localhost:8080/"
        }
      },
      "outputs": [
        {
          "output_type": "execute_result",
          "data": {
            "text/plain": [
              "array([[False,  True,  True],\n",
              "       [False,  True,  True],\n",
              "       [ True,  True, False]])"
            ]
          },
          "metadata": {},
          "execution_count": 106
        }
      ],
      "source": [
        "A > 30"
      ]
    },
    {
      "cell_type": "code",
      "execution_count": null,
      "metadata": {
        "id": "2lwNUY8Xc_M9",
        "outputId": "dbb0d41b-921a-4506-c351-e0af60faee6d",
        "colab": {
          "base_uri": "https://localhost:8080/"
        }
      },
      "outputs": [
        {
          "output_type": "execute_result",
          "data": {
            "text/plain": [
              "array([99, 80, 47, 44, 47, 68])"
            ]
          },
          "metadata": {},
          "execution_count": 107
        }
      ],
      "source": [
        "A[A > 30]"
      ]
    },
    {
      "cell_type": "markdown",
      "source": [
        "Exercise:"
      ],
      "metadata": {
        "id": "HPYVCc3Vpy3p"
      }
    },
    {
      "cell_type": "code",
      "source": [
        "e = np.arange(5)"
      ],
      "metadata": {
        "id": "BJjwLqiLpfPk"
      },
      "execution_count": null,
      "outputs": []
    },
    {
      "cell_type": "code",
      "source": [
        "print(a <= 3)"
      ],
      "metadata": {
        "id": "gifR1H1lph6y",
        "outputId": "97d1f929-071e-4fe4-e92a-47a316458835",
        "colab": {
          "base_uri": "https://localhost:8080/"
        }
      },
      "execution_count": null,
      "outputs": [
        {
          "output_type": "stream",
          "name": "stdout",
          "text": [
            "[ True  True  True  True False]\n"
          ]
        }
      ]
    },
    {
      "cell_type": "code",
      "source": [
        "print(a[(a <= 3)])"
      ],
      "metadata": {
        "id": "adYdlYf8psGp",
        "outputId": "203634e5-5633-4c4e-daca-6f936f1c4b5a",
        "colab": {
          "base_uri": "https://localhost:8080/"
        }
      },
      "execution_count": null,
      "outputs": [
        {
          "output_type": "stream",
          "name": "stdout",
          "text": [
            "[0 1 2 3]\n"
          ]
        }
      ]
    },
    {
      "cell_type": "markdown",
      "metadata": {
        "id": "yys3XrjRc_M9"
      },
      "source": [
        "![green-divider](https://user-images.githubusercontent.com/7065401/52071924-c003ad80-2562-11e9-8297-1c6595f8a7ff.png)\n",
        "\n",
        "## Linear Algebra"
      ]
    },
    {
      "cell_type": "code",
      "execution_count": null,
      "metadata": {
        "id": "4aEbR9okc_M-"
      },
      "outputs": [],
      "source": [
        "A = np.array([\n",
        "    [1, 2, 3],\n",
        "    [4, 5, 6],\n",
        "    [7, 8, 9]\n",
        "])"
      ]
    },
    {
      "cell_type": "code",
      "execution_count": null,
      "metadata": {
        "id": "BFNshx7Qc_M-"
      },
      "outputs": [],
      "source": [
        "B = np.array([\n",
        "    [6, 5],\n",
        "    [4, 3],\n",
        "    [2, 1]\n",
        "])"
      ]
    },
    {
      "cell_type": "markdown",
      "source": [
        "Dot product of two arrays\n",
        "\n",
        "dot(a, b)[i,j,k,m] = sum(a[i,j,:] * b[k,:,m])\n",
        "\n",
        "If a is an array, they're equivalent. The docs you couldn't find for the dot method are here, and they boil down to \"see numpy.dot\".\n",
        "\n",
        "If type(a) is not numpy.ndarray, then numpy.dot will convert a to an array and use the array for the multiplication, while a.dot will do whatever a's type says it does, or raise an AttributeError if a doesn't have a dot method."
      ],
      "metadata": {
        "id": "iE0zNPEtz3OB"
      }
    },
    {
      "cell_type": "code",
      "execution_count": null,
      "metadata": {
        "id": "oer_AV7uc_M-",
        "outputId": "39a08cc8-b839-4fe7-af1c-f64416c483b5",
        "colab": {
          "base_uri": "https://localhost:8080/"
        }
      },
      "outputs": [
        {
          "output_type": "execute_result",
          "data": {
            "text/plain": [
              "array([[20, 14],\n",
              "       [56, 41],\n",
              "       [92, 68]])"
            ]
          },
          "metadata": {},
          "execution_count": 113
        }
      ],
      "source": [
        "A.dot(B)"
      ]
    },
    {
      "cell_type": "code",
      "execution_count": null,
      "metadata": {
        "id": "GjMcCttxc_M-",
        "outputId": "53b04042-6403-4f0d-9d3b-8592217face6",
        "colab": {
          "base_uri": "https://localhost:8080/"
        }
      },
      "outputs": [
        {
          "output_type": "execute_result",
          "data": {
            "text/plain": [
              "array([[20, 14],\n",
              "       [56, 41],\n",
              "       [92, 68]])"
            ]
          },
          "metadata": {},
          "execution_count": 114
        }
      ],
      "source": [
        "A @ B"
      ]
    },
    {
      "cell_type": "markdown",
      "source": [
        "The transpose() function is used to permute the dimensions of an array.![numpy-manipulation-transpose-function-ima.png](data:image/png;base64,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)"
      ],
      "metadata": {
        "id": "I6ayoOMvzRy6"
      }
    },
    {
      "cell_type": "code",
      "execution_count": null,
      "metadata": {
        "id": "sgTeRPaic_M-",
        "outputId": "3bcc6f18-c882-44a1-ad9f-457bedd53291",
        "colab": {
          "base_uri": "https://localhost:8080/"
        }
      },
      "outputs": [
        {
          "output_type": "execute_result",
          "data": {
            "text/plain": [
              "array([[6, 4, 2],\n",
              "       [5, 3, 1]])"
            ]
          },
          "metadata": {},
          "execution_count": 115
        }
      ],
      "source": [
        "B.T"
      ]
    },
    {
      "cell_type": "code",
      "execution_count": null,
      "metadata": {
        "id": "xVMLN9U-c_M-",
        "outputId": "9ea3474b-b04e-4960-b610-e0b4bd7e1449",
        "colab": {
          "base_uri": "https://localhost:8080/"
        }
      },
      "outputs": [
        {
          "output_type": "execute_result",
          "data": {
            "text/plain": [
              "array([[1, 2, 3],\n",
              "       [4, 5, 6],\n",
              "       [7, 8, 9]])"
            ]
          },
          "metadata": {},
          "execution_count": 116
        }
      ],
      "source": [
        "A"
      ]
    },
    {
      "cell_type": "code",
      "execution_count": null,
      "metadata": {
        "scrolled": true,
        "id": "Nr_dWuA6c_M-",
        "outputId": "d2d27b2d-0423-4a54-90f2-61468a5538bf",
        "colab": {
          "base_uri": "https://localhost:8080/"
        }
      },
      "outputs": [
        {
          "output_type": "execute_result",
          "data": {
            "text/plain": [
              "array([[36, 48, 60],\n",
              "       [24, 33, 42]])"
            ]
          },
          "metadata": {},
          "execution_count": 117
        }
      ],
      "source": [
        "B.T @ A"
      ]
    },
    {
      "cell_type": "markdown",
      "metadata": {
        "id": "cbCXvK_ec_M-"
      },
      "source": [
        "![green-divider](https://user-images.githubusercontent.com/7065401/52071924-c003ad80-2562-11e9-8297-1c6595f8a7ff.png)\n",
        "\n",
        "## Size of objects in Memory"
      ]
    },
    {
      "cell_type": "markdown",
      "metadata": {
        "id": "drGtGB0Dc_M-"
      },
      "source": [
        "### Int, floats"
      ]
    },
    {
      "cell_type": "code",
      "execution_count": null,
      "metadata": {
        "id": "h8d5iSVGc_M-",
        "outputId": "2ec697c2-2a7c-419f-cefb-8972b5ce0d00",
        "colab": {
          "base_uri": "https://localhost:8080/"
        }
      },
      "outputs": [
        {
          "output_type": "execute_result",
          "data": {
            "text/plain": [
              "28"
            ]
          },
          "metadata": {},
          "execution_count": 118
        }
      ],
      "source": [
        "#28 Bytes are need to store number 1\n",
        "# An integer in Python is > 24bytes\n",
        "sys.getsizeof(1)"
      ]
    },
    {
      "cell_type": "code",
      "execution_count": null,
      "metadata": {
        "scrolled": true,
        "id": "b9W7GKkGc_M_",
        "outputId": "7088dc14-f778-4ba9-e400-c222717a52c2",
        "colab": {
          "base_uri": "https://localhost:8080/"
        }
      },
      "outputs": [
        {
          "output_type": "execute_result",
          "data": {
            "text/plain": [
              "72"
            ]
          },
          "metadata": {},
          "execution_count": 119
        }
      ],
      "source": [
        "# Longs are even larger\n",
        "sys.getsizeof(10**100)"
      ]
    },
    {
      "cell_type": "code",
      "execution_count": null,
      "metadata": {
        "scrolled": true,
        "id": "4G6Q5pKKc_M_",
        "outputId": "4f90da19-f6c8-4ffa-8de5-432101399a21",
        "colab": {
          "base_uri": "https://localhost:8080/"
        }
      },
      "outputs": [
        {
          "output_type": "execute_result",
          "data": {
            "text/plain": [
              "8"
            ]
          },
          "metadata": {},
          "execution_count": 120
        }
      ],
      "source": [
        "# Numpy size is much smaller\n",
        "np.dtype(int).itemsize"
      ]
    },
    {
      "cell_type": "code",
      "execution_count": null,
      "metadata": {
        "scrolled": true,
        "id": "VL8jiLqgc_M_",
        "outputId": "eb347a66-c53d-4cf5-abb3-5dbdb21dcd5f",
        "colab": {
          "base_uri": "https://localhost:8080/"
        }
      },
      "outputs": [
        {
          "output_type": "execute_result",
          "data": {
            "text/plain": [
              "1"
            ]
          },
          "metadata": {},
          "execution_count": 121
        }
      ],
      "source": [
        "# Numpy size is much smaller\n",
        "np.dtype(np.int8).itemsize"
      ]
    },
    {
      "cell_type": "code",
      "execution_count": null,
      "metadata": {
        "scrolled": true,
        "id": "MEciQVeQc_M_",
        "outputId": "ccdad74d-420b-40df-8d26-aba84aa312e7",
        "colab": {
          "base_uri": "https://localhost:8080/"
        }
      },
      "outputs": [
        {
          "output_type": "execute_result",
          "data": {
            "text/plain": [
              "8"
            ]
          },
          "metadata": {},
          "execution_count": 122
        }
      ],
      "source": [
        "np.dtype(float).itemsize"
      ]
    },
    {
      "cell_type": "markdown",
      "metadata": {
        "id": "XGW9Pckac_M_"
      },
      "source": [
        "### Lists are even larger"
      ]
    },
    {
      "cell_type": "code",
      "execution_count": null,
      "metadata": {
        "id": "ivK_Ky1Fc_M_",
        "outputId": "9ac84485-90b5-4b80-d334-23e659b5d7f3",
        "colab": {
          "base_uri": "https://localhost:8080/"
        }
      },
      "outputs": [
        {
          "output_type": "execute_result",
          "data": {
            "text/plain": [
              "80"
            ]
          },
          "metadata": {},
          "execution_count": 123
        }
      ],
      "source": [
        "# A one-element list\n",
        "sys.getsizeof([1])"
      ]
    },
    {
      "cell_type": "code",
      "execution_count": null,
      "metadata": {
        "scrolled": true,
        "id": "a5-hZhCLc_M_",
        "outputId": "4d8fefc4-961e-4e34-cf12-c1bd946c9904",
        "colab": {
          "base_uri": "https://localhost:8080/"
        }
      },
      "outputs": [
        {
          "output_type": "execute_result",
          "data": {
            "text/plain": [
              "8"
            ]
          },
          "metadata": {},
          "execution_count": 124
        }
      ],
      "source": [
        "# An array of one element in numpy\n",
        "np.array([1]).nbytes"
      ]
    },
    {
      "cell_type": "markdown",
      "metadata": {
        "id": "cXNM9XT3c_M_"
      },
      "source": [
        "### And performance is also important"
      ]
    },
    {
      "cell_type": "code",
      "execution_count": null,
      "metadata": {
        "id": "NZq5p3zec_M_"
      },
      "outputs": [],
      "source": [
        "l = list(range(100000))"
      ]
    },
    {
      "cell_type": "markdown",
      "source": [
        "We are squaring all the elements in the array and then we are summing all the elements.\n",
        "Then we check how much time it takes."
      ],
      "metadata": {
        "id": "FlOByyIm1V5O"
      }
    },
    {
      "cell_type": "code",
      "execution_count": null,
      "metadata": {
        "id": "w1lJawLyc_M_"
      },
      "outputs": [],
      "source": [
        "a = np.arange(100000)"
      ]
    },
    {
      "cell_type": "markdown",
      "source": [
        ""
      ],
      "metadata": {
        "id": "A6Ps8CyS1OJ3"
      }
    },
    {
      "cell_type": "code",
      "execution_count": null,
      "metadata": {
        "scrolled": true,
        "id": "y5mbKl3kc_M_",
        "outputId": "13849371-7ec9-47ca-9588-4b895541ec8b",
        "colab": {
          "base_uri": "https://localhost:8080/"
        }
      },
      "outputs": [
        {
          "output_type": "stream",
          "name": "stdout",
          "text": [
            "CPU times: user 1.91 ms, sys: 0 ns, total: 1.91 ms\n",
            "Wall time: 1.11 ms\n"
          ]
        },
        {
          "output_type": "execute_result",
          "data": {
            "text/plain": [
              "333328333350000"
            ]
          },
          "metadata": {},
          "execution_count": 127
        }
      ],
      "source": [
        "%time np.sum(a ** 2)"
      ]
    },
    {
      "cell_type": "code",
      "execution_count": null,
      "metadata": {
        "scrolled": true,
        "id": "w_LKstONc_NA",
        "outputId": "13d4d2af-a5ed-43d4-c58b-2a755dbd25ea",
        "colab": {
          "base_uri": "https://localhost:8080/"
        }
      },
      "outputs": [
        {
          "output_type": "stream",
          "name": "stdout",
          "text": [
            "CPU times: user 27.4 ms, sys: 2.85 ms, total: 30.2 ms\n",
            "Wall time: 30 ms\n"
          ]
        },
        {
          "output_type": "execute_result",
          "data": {
            "text/plain": [
              "333328333350000"
            ]
          },
          "metadata": {},
          "execution_count": 128
        }
      ],
      "source": [
        "%time sum([x ** 2 for x in l])"
      ]
    },
    {
      "cell_type": "markdown",
      "source": [
        "Numpy is much faster"
      ],
      "metadata": {
        "id": "86Ysiebd1YRO"
      }
    },
    {
      "cell_type": "markdown",
      "metadata": {
        "id": "m9Hg1ELbc_NA"
      },
      "source": [
        "![green-divider](https://user-images.githubusercontent.com/7065401/52071924-c003ad80-2562-11e9-8297-1c6595f8a7ff.png)\n",
        "\n",
        "## Useful Numpy functions"
      ]
    },
    {
      "cell_type": "markdown",
      "metadata": {
        "id": "zVGHZ8hrc_NA"
      },
      "source": [
        "### `random` "
      ]
    },
    {
      "cell_type": "code",
      "execution_count": null,
      "metadata": {
        "id": "83qwAqGWc_NA",
        "outputId": "9e0debb1-17d1-4f0a-a982-80846dea792b",
        "colab": {
          "base_uri": "https://localhost:8080/"
        }
      },
      "outputs": [
        {
          "output_type": "execute_result",
          "data": {
            "text/plain": [
              "array([0.26451039, 0.76183624])"
            ]
          },
          "metadata": {},
          "execution_count": 153
        }
      ],
      "source": [
        "np.random.random(size=2)"
      ]
    },
    {
      "cell_type": "code",
      "execution_count": null,
      "metadata": {
        "id": "7HG7gQ10c_NA",
        "outputId": "72bf7062-784b-4391-8ba8-4c67e34d93e8",
        "colab": {
          "base_uri": "https://localhost:8080/"
        }
      },
      "outputs": [
        {
          "output_type": "execute_result",
          "data": {
            "text/plain": [
              "array([ 2.60446677, -1.94087931])"
            ]
          },
          "metadata": {},
          "execution_count": 154
        }
      ],
      "source": [
        "np.random.normal(size=2)"
      ]
    },
    {
      "cell_type": "code",
      "execution_count": null,
      "metadata": {
        "id": "W7cePR7_c_NA",
        "outputId": "49aaa29d-d8d0-4185-df6e-efccaba87d0c",
        "colab": {
          "base_uri": "https://localhost:8080/"
        }
      },
      "outputs": [
        {
          "output_type": "execute_result",
          "data": {
            "text/plain": [
              "array([[0.7109871 , 0.72477898, 0.99310277, 0.92674665],\n",
              "       [0.61161218, 0.18049882, 0.39184599, 0.3067996 ]])"
            ]
          },
          "metadata": {},
          "execution_count": 155
        }
      ],
      "source": [
        "np.random.rand(2, 4)"
      ]
    },
    {
      "cell_type": "code",
      "source": [
        "np.random.random_sample(a.shape)#Random decimal numbers"
      ],
      "metadata": {
        "colab": {
          "base_uri": "https://localhost:8080/"
        },
        "id": "Q4v6-g5p2W5x",
        "outputId": "e93eb313-0db2-4fce-df54-1380aabc4304"
      },
      "execution_count": 66,
      "outputs": [
        {
          "output_type": "execute_result",
          "data": {
            "text/plain": [
              "array([[0.05348653, 0.99888438, 0.25740336, 0.70892129, 0.24753839],\n",
              "       [0.19674749, 0.38964398, 0.04313864, 0.7744423 , 0.30117217]])"
            ]
          },
          "metadata": {},
          "execution_count": 66
        }
      ]
    },
    {
      "cell_type": "code",
      "source": [
        "np.random.randint(7)#Returns 1 random Integer number"
      ],
      "metadata": {
        "colab": {
          "base_uri": "https://localhost:8080/"
        },
        "id": "4LE3Z_IU2dhh",
        "outputId": "902d73dc-5970-4ba9-fd4e-157da58b2d93"
      },
      "execution_count": 67,
      "outputs": [
        {
          "output_type": "execute_result",
          "data": {
            "text/plain": [
              "4"
            ]
          },
          "metadata": {},
          "execution_count": 67
        }
      ]
    },
    {
      "cell_type": "code",
      "source": [
        "np.random.randint(7, size=(3,3))#Returns 3x3 random Integers"
      ],
      "metadata": {
        "colab": {
          "base_uri": "https://localhost:8080/"
        },
        "id": "z_iWZdbm2oXR",
        "outputId": "4d74993e-0963-470c-a42d-2c03c8b9a27c"
      },
      "execution_count": 68,
      "outputs": [
        {
          "output_type": "execute_result",
          "data": {
            "text/plain": [
              "array([[2, 0, 1],\n",
              "       [4, 2, 5],\n",
              "       [2, 6, 5]])"
            ]
          },
          "metadata": {},
          "execution_count": 68
        }
      ]
    },
    {
      "cell_type": "code",
      "source": [
        "np.random.randint(-1,2, size=(3,3))#Returns 3x3 random Integers (2 is excluded)"
      ],
      "metadata": {
        "colab": {
          "base_uri": "https://localhost:8080/"
        },
        "id": "Hj0_xzXa2yc6",
        "outputId": "efcf36ef-cf81-4989-cb38-3a3e284c5220"
      },
      "execution_count": 71,
      "outputs": [
        {
          "output_type": "execute_result",
          "data": {
            "text/plain": [
              "array([[ 0,  1, -1],\n",
              "       [ 0,  0,  1],\n",
              "       [ 1,  1, -1]])"
            ]
          },
          "metadata": {},
          "execution_count": 71
        }
      ]
    },
    {
      "cell_type": "markdown",
      "metadata": {
        "id": "rr_ztPXrc_NA"
      },
      "source": [
        "---\n",
        "### `arange`"
      ]
    },
    {
      "cell_type": "code",
      "execution_count": null,
      "metadata": {
        "id": "hGF2jnmXc_NA",
        "outputId": "abbb5c41-ff0f-4c73-b9fa-e1cf495c6cb1",
        "colab": {
          "base_uri": "https://localhost:8080/"
        }
      },
      "outputs": [
        {
          "output_type": "execute_result",
          "data": {
            "text/plain": [
              "array([0, 1, 2, 3, 4, 5, 6, 7, 8, 9])"
            ]
          },
          "metadata": {},
          "execution_count": 156
        }
      ],
      "source": [
        "np.arange(10)"
      ]
    },
    {
      "cell_type": "code",
      "execution_count": null,
      "metadata": {
        "id": "upBf4Fkwc_NA",
        "outputId": "c93d597e-e598-4e55-c05a-4c815c4b8f62",
        "colab": {
          "base_uri": "https://localhost:8080/"
        }
      },
      "outputs": [
        {
          "output_type": "execute_result",
          "data": {
            "text/plain": [
              "array([5, 6, 7, 8, 9])"
            ]
          },
          "metadata": {},
          "execution_count": 157
        }
      ],
      "source": [
        "np.arange(5, 10)"
      ]
    },
    {
      "cell_type": "code",
      "execution_count": null,
      "metadata": {
        "id": "AGtP1wQ1c_NA",
        "outputId": "5763f437-3de5-4b34-dce6-d3284b9de861",
        "colab": {
          "base_uri": "https://localhost:8080/"
        }
      },
      "outputs": [
        {
          "output_type": "execute_result",
          "data": {
            "text/plain": [
              "array([0. , 0.1, 0.2, 0.3, 0.4, 0.5, 0.6, 0.7, 0.8, 0.9])"
            ]
          },
          "metadata": {},
          "execution_count": 158
        }
      ],
      "source": [
        "np.arange(0, 1, .1)"
      ]
    },
    {
      "cell_type": "markdown",
      "metadata": {
        "id": "5GKeCvafc_NA"
      },
      "source": [
        "---\n",
        "### `reshape`"
      ]
    },
    {
      "cell_type": "code",
      "execution_count": null,
      "metadata": {
        "id": "sloiLmowc_NA",
        "outputId": "0c7fd1c6-0182-4d7c-a135-f430fc0ceba7",
        "colab": {
          "base_uri": "https://localhost:8080/"
        }
      },
      "outputs": [
        {
          "output_type": "execute_result",
          "data": {
            "text/plain": [
              "array([[0, 1, 2, 3, 4],\n",
              "       [5, 6, 7, 8, 9]])"
            ]
          },
          "metadata": {},
          "execution_count": 159
        }
      ],
      "source": [
        "np.arange(10).reshape(2, 5)"
      ]
    },
    {
      "cell_type": "code",
      "execution_count": null,
      "metadata": {
        "id": "p4qDM6lYc_NB",
        "outputId": "4d48ab8e-89d8-449c-adcb-616b6c6ef0fb",
        "colab": {
          "base_uri": "https://localhost:8080/"
        }
      },
      "outputs": [
        {
          "output_type": "execute_result",
          "data": {
            "text/plain": [
              "array([[0, 1],\n",
              "       [2, 3],\n",
              "       [4, 5],\n",
              "       [6, 7],\n",
              "       [8, 9]])"
            ]
          },
          "metadata": {},
          "execution_count": 160
        }
      ],
      "source": [
        "np.arange(10).reshape(5, 2)"
      ]
    },
    {
      "cell_type": "markdown",
      "metadata": {
        "id": "_SGouo5pc_NB"
      },
      "source": [
        "---\n",
        "### `linspace`"
      ]
    },
    {
      "cell_type": "code",
      "execution_count": null,
      "metadata": {
        "id": "mW0sNdFKc_NB"
      },
      "outputs": [],
      "source": [
        "np.linspace(0, 1, 5)"
      ]
    },
    {
      "cell_type": "code",
      "execution_count": null,
      "metadata": {
        "id": "ti7YWmrFc_NB",
        "outputId": "fb9c381d-2155-4604-c0d0-250fc399fabc",
        "colab": {
          "base_uri": "https://localhost:8080/"
        }
      },
      "outputs": [
        {
          "output_type": "execute_result",
          "data": {
            "text/plain": [
              "array([0.        , 0.05263158, 0.10526316, 0.15789474, 0.21052632,\n",
              "       0.26315789, 0.31578947, 0.36842105, 0.42105263, 0.47368421,\n",
              "       0.52631579, 0.57894737, 0.63157895, 0.68421053, 0.73684211,\n",
              "       0.78947368, 0.84210526, 0.89473684, 0.94736842, 1.        ])"
            ]
          },
          "metadata": {},
          "execution_count": 162
        }
      ],
      "source": [
        "np.linspace(0, 1, 20)"
      ]
    },
    {
      "cell_type": "code",
      "execution_count": null,
      "metadata": {
        "scrolled": true,
        "id": "qDjTLbnJc_NB",
        "outputId": "50fb2ee9-5dac-481e-b309-6dfeda769e0b",
        "colab": {
          "base_uri": "https://localhost:8080/"
        }
      },
      "outputs": [
        {
          "output_type": "execute_result",
          "data": {
            "text/plain": [
              "array([0.  , 0.05, 0.1 , 0.15, 0.2 , 0.25, 0.3 , 0.35, 0.4 , 0.45, 0.5 ,\n",
              "       0.55, 0.6 , 0.65, 0.7 , 0.75, 0.8 , 0.85, 0.9 , 0.95])"
            ]
          },
          "metadata": {},
          "execution_count": 163
        }
      ],
      "source": [
        "np.linspace(0, 1, 20, False)"
      ]
    },
    {
      "cell_type": "markdown",
      "metadata": {
        "id": "9A4F_Gy-c_NB"
      },
      "source": [
        "---\n",
        "### `zeros`, `ones`, `empty`"
      ]
    },
    {
      "cell_type": "code",
      "execution_count": null,
      "metadata": {
        "id": "S1BaMcCyc_NB",
        "outputId": "a65447bf-7e97-4fb7-9dc8-41b406461d52",
        "colab": {
          "base_uri": "https://localhost:8080/"
        }
      },
      "outputs": [
        {
          "output_type": "execute_result",
          "data": {
            "text/plain": [
              "array([0., 0., 0., 0., 0.])"
            ]
          },
          "metadata": {},
          "execution_count": 164
        }
      ],
      "source": [
        "np.zeros(5)"
      ]
    },
    {
      "cell_type": "code",
      "execution_count": null,
      "metadata": {
        "scrolled": true,
        "id": "wBcWz5JHc_NB",
        "outputId": "9875e283-a77b-4615-d931-a7b5359cbd56",
        "colab": {
          "base_uri": "https://localhost:8080/"
        }
      },
      "outputs": [
        {
          "output_type": "execute_result",
          "data": {
            "text/plain": [
              "array([[0., 0., 0.],\n",
              "       [0., 0., 0.],\n",
              "       [0., 0., 0.]])"
            ]
          },
          "metadata": {},
          "execution_count": 165
        }
      ],
      "source": [
        "np.zeros((3, 3))"
      ]
    },
    {
      "cell_type": "code",
      "execution_count": null,
      "metadata": {
        "scrolled": true,
        "id": "2l1WLpxqc_NB",
        "outputId": "93ef9fe7-efe6-4aad-ccc6-89a97543ec6b",
        "colab": {
          "base_uri": "https://localhost:8080/"
        }
      },
      "outputs": [
        {
          "output_type": "execute_result",
          "data": {
            "text/plain": [
              "array([[0, 0, 0],\n",
              "       [0, 0, 0],\n",
              "       [0, 0, 0]])"
            ]
          },
          "metadata": {},
          "execution_count": 166
        }
      ],
      "source": [
        "np.zeros((3, 3), dtype=np.int)"
      ]
    },
    {
      "cell_type": "code",
      "execution_count": null,
      "metadata": {
        "id": "vjgtKVQmc_NB",
        "outputId": "1ec20c59-90b4-49cc-a6d7-197698a763b9",
        "colab": {
          "base_uri": "https://localhost:8080/"
        }
      },
      "outputs": [
        {
          "output_type": "execute_result",
          "data": {
            "text/plain": [
              "array([1., 1., 1., 1., 1.])"
            ]
          },
          "metadata": {},
          "execution_count": 167
        }
      ],
      "source": [
        "np.ones(5)"
      ]
    },
    {
      "cell_type": "code",
      "execution_count": null,
      "metadata": {
        "id": "j9ruCkoic_NB",
        "outputId": "64beec12-a45c-4b12-f354-b6e8098f0f1c",
        "colab": {
          "base_uri": "https://localhost:8080/"
        }
      },
      "outputs": [
        {
          "output_type": "execute_result",
          "data": {
            "text/plain": [
              "array([[1., 1., 1.],\n",
              "       [1., 1., 1.],\n",
              "       [1., 1., 1.]])"
            ]
          },
          "metadata": {},
          "execution_count": 168
        }
      ],
      "source": [
        "np.ones((3, 3))"
      ]
    },
    {
      "cell_type": "code",
      "execution_count": null,
      "metadata": {
        "id": "CqcX6j30c_NB",
        "outputId": "cbcca088-62d8-42bc-9a09-16c32d3101db",
        "colab": {
          "base_uri": "https://localhost:8080/"
        }
      },
      "outputs": [
        {
          "output_type": "execute_result",
          "data": {
            "text/plain": [
              "array([1., 1., 1., 1., 1.])"
            ]
          },
          "metadata": {},
          "execution_count": 169
        }
      ],
      "source": [
        "np.empty(5)"
      ]
    },
    {
      "cell_type": "code",
      "execution_count": null,
      "metadata": {
        "scrolled": true,
        "id": "B42_eAQlc_NB",
        "outputId": "e320569e-477c-43a4-9192-9dacc763e375",
        "colab": {
          "base_uri": "https://localhost:8080/"
        }
      },
      "outputs": [
        {
          "output_type": "execute_result",
          "data": {
            "text/plain": [
              "array([[0.25, 0.5 ],\n",
              "       [0.75, 1.  ]])"
            ]
          },
          "metadata": {},
          "execution_count": 146
        }
      ],
      "source": [
        "np.empty((2, 2))"
      ]
    },
    {
      "cell_type": "code",
      "source": [
        "np.full((2, 2),99) #Filling with the number 99"
      ],
      "metadata": {
        "colab": {
          "base_uri": "https://localhost:8080/"
        },
        "id": "Q6sVuZne1cur",
        "outputId": "c39b70c0-3723-48f5-a75f-6690711feb44"
      },
      "execution_count": 61,
      "outputs": [
        {
          "output_type": "execute_result",
          "data": {
            "text/plain": [
              "array([[99, 99],\n",
              "       [99, 99]])"
            ]
          },
          "metadata": {},
          "execution_count": 61
        }
      ]
    },
    {
      "cell_type": "code",
      "source": [
        ""
      ],
      "metadata": {
        "id": "db82P6du2Pw5"
      },
      "execution_count": null,
      "outputs": []
    },
    {
      "cell_type": "code",
      "source": [
        "print(a)"
      ],
      "metadata": {
        "colab": {
          "base_uri": "https://localhost:8080/"
        },
        "id": "MR9M6lSI15CJ",
        "outputId": "f39d682e-3034-410a-f9fc-932904695eaa"
      },
      "execution_count": 64,
      "outputs": [
        {
          "output_type": "stream",
          "name": "stdout",
          "text": [
            "[[ 1  2 20  4  5]\n",
            " [ 6  7 20  9 10]]\n"
          ]
        }
      ]
    },
    {
      "cell_type": "code",
      "source": [
        "np.full_like(a,4)"
      ],
      "metadata": {
        "colab": {
          "base_uri": "https://localhost:8080/"
        },
        "id": "0NdP-G1E2BdA",
        "outputId": "b28f48a4-f586-4607-d8ba-b1042ee270d0"
      },
      "execution_count": 65,
      "outputs": [
        {
          "output_type": "execute_result",
          "data": {
            "text/plain": [
              "array([[4, 4, 4, 4, 4],\n",
              "       [4, 4, 4, 4, 4]])"
            ]
          },
          "metadata": {},
          "execution_count": 65
        }
      ]
    },
    {
      "cell_type": "markdown",
      "metadata": {
        "id": "apEzw58mc_NC"
      },
      "source": [
        "---\n",
        "### `identity` and `eye`"
      ]
    },
    {
      "cell_type": "code",
      "execution_count": null,
      "metadata": {
        "id": "6G56LUnQc_NC",
        "outputId": "632b2e89-f8ff-4088-cac5-2f32f542f6c7",
        "colab": {
          "base_uri": "https://localhost:8080/"
        }
      },
      "outputs": [
        {
          "output_type": "execute_result",
          "data": {
            "text/plain": [
              "array([[1., 0., 0.],\n",
              "       [0., 1., 0.],\n",
              "       [0., 0., 1.]])"
            ]
          },
          "metadata": {},
          "execution_count": 170
        }
      ],
      "source": [
        "np.identity(3)"
      ]
    },
    {
      "cell_type": "code",
      "execution_count": null,
      "metadata": {
        "id": "QVowaQeRc_NC",
        "outputId": "0dff4a79-9b20-40e5-936d-263f1e4a23f4",
        "colab": {
          "base_uri": "https://localhost:8080/"
        }
      },
      "outputs": [
        {
          "output_type": "execute_result",
          "data": {
            "text/plain": [
              "array([[1., 0., 0.],\n",
              "       [0., 1., 0.],\n",
              "       [0., 0., 1.]])"
            ]
          },
          "metadata": {},
          "execution_count": 171
        }
      ],
      "source": [
        "np.eye(3, 3)"
      ]
    },
    {
      "cell_type": "code",
      "execution_count": null,
      "metadata": {
        "id": "1f8n6wtvc_NC",
        "outputId": "1fd9ac0f-310f-49a8-cbc5-34705443092a",
        "colab": {
          "base_uri": "https://localhost:8080/"
        }
      },
      "outputs": [
        {
          "output_type": "execute_result",
          "data": {
            "text/plain": [
              "array([[1., 0., 0., 0.],\n",
              "       [0., 1., 0., 0.],\n",
              "       [0., 0., 1., 0.],\n",
              "       [0., 0., 0., 1.],\n",
              "       [0., 0., 0., 0.],\n",
              "       [0., 0., 0., 0.],\n",
              "       [0., 0., 0., 0.],\n",
              "       [0., 0., 0., 0.]])"
            ]
          },
          "metadata": {},
          "execution_count": 172
        }
      ],
      "source": [
        "np.eye(8, 4)"
      ]
    },
    {
      "cell_type": "code",
      "execution_count": null,
      "metadata": {
        "scrolled": true,
        "id": "pq_NzOx0c_NC",
        "outputId": "4b17ed79-4fff-4ed1-ab2e-086ffd6a38ed",
        "colab": {
          "base_uri": "https://localhost:8080/"
        }
      },
      "outputs": [
        {
          "output_type": "execute_result",
          "data": {
            "text/plain": [
              "array([[0., 1., 0., 0.],\n",
              "       [0., 0., 1., 0.],\n",
              "       [0., 0., 0., 1.],\n",
              "       [0., 0., 0., 0.],\n",
              "       [0., 0., 0., 0.],\n",
              "       [0., 0., 0., 0.],\n",
              "       [0., 0., 0., 0.],\n",
              "       [0., 0., 0., 0.]])"
            ]
          },
          "metadata": {},
          "execution_count": 173
        }
      ],
      "source": [
        "np.eye(8, 4, k=1)"
      ]
    },
    {
      "cell_type": "code",
      "execution_count": null,
      "metadata": {
        "id": "lc_p-hU_c_NC",
        "outputId": "84004d1e-1e5d-4892-b5c9-2804edd5a73a",
        "colab": {
          "base_uri": "https://localhost:8080/"
        }
      },
      "outputs": [
        {
          "output_type": "execute_result",
          "data": {
            "text/plain": [
              "array([[0., 0., 0., 0.],\n",
              "       [0., 0., 0., 0.],\n",
              "       [0., 0., 0., 0.],\n",
              "       [1., 0., 0., 0.],\n",
              "       [0., 1., 0., 0.],\n",
              "       [0., 0., 1., 0.],\n",
              "       [0., 0., 0., 1.],\n",
              "       [0., 0., 0., 0.]])"
            ]
          },
          "metadata": {},
          "execution_count": 174
        }
      ],
      "source": [
        "np.eye(8, 4, k=-3)"
      ]
    },
    {
      "cell_type": "code",
      "execution_count": null,
      "metadata": {
        "scrolled": true,
        "id": "nE1wZTLPc_NC",
        "outputId": "f2b4bfc9-9807-4030-f6d3-ae97dece4df2",
        "colab": {
          "base_uri": "https://localhost:8080/"
        }
      },
      "outputs": [
        {
          "output_type": "execute_result",
          "data": {
            "application/vnd.google.colaboratory.intrinsic+json": {
              "type": "string"
            },
            "text/plain": [
              "'W'"
            ]
          },
          "metadata": {},
          "execution_count": 175
        }
      ],
      "source": [
        "\"Hello World\"[6]"
      ]
    },
    {
      "cell_type": "code",
      "source": [
        "arr = np.array([1,2,3])"
      ],
      "metadata": {
        "id": "-ppjq55y3BnB"
      },
      "execution_count": 72,
      "outputs": []
    },
    {
      "cell_type": "code",
      "source": [
        "print(arr)"
      ],
      "metadata": {
        "colab": {
          "base_uri": "https://localhost:8080/"
        },
        "id": "BcDdj-al3QKs",
        "outputId": "769b1fbd-d8a1-423f-f0af-0b69fafdd66c"
      },
      "execution_count": 79,
      "outputs": [
        {
          "output_type": "stream",
          "name": "stdout",
          "text": [
            "[1 2 3]\n"
          ]
        }
      ]
    },
    {
      "cell_type": "code",
      "source": [
        "r1 = np.repeat(arr,4,axis=0)\n",
        "print(r1)"
      ],
      "metadata": {
        "colab": {
          "base_uri": "https://localhost:8080/"
        },
        "id": "E-ckhhSf3GrJ",
        "outputId": "41c67a45-6356-45b9-bcbd-ca89e370f815"
      },
      "execution_count": 86,
      "outputs": [
        {
          "output_type": "stream",
          "name": "stdout",
          "text": [
            "[1 1 1 1 2 2 2 2 3 3 3 3]\n"
          ]
        }
      ]
    },
    {
      "cell_type": "code",
      "source": [
        "a = np.array([[1, 2, 3, 4, 5], [6, 7, 8, 9, 10]])\n",
        "\n",
        "print(np.full_like(a, 100))"
      ],
      "metadata": {
        "colab": {
          "base_uri": "https://localhost:8080/"
        },
        "id": "P24azQ1x3bsq",
        "outputId": "bb7cb63a-3c11-420c-b1b0-8cf3c533d205"
      },
      "execution_count": 82,
      "outputs": [
        {
          "output_type": "stream",
          "name": "stdout",
          "text": [
            "[[100 100 100 100 100]\n",
            " [100 100 100 100 100]]\n"
          ]
        }
      ]
    },
    {
      "cell_type": "code",
      "source": [
        "output = np.zeros((7,7))\n",
        "print(output)\n",
        "z = np.ones((5, 5))\n",
        "z[2, 2] = 5\n",
        "print(z)\n",
        "output[1:-1, 1:-1] = z\n",
        "print(output)"
      ],
      "metadata": {
        "id": "FxAWIZo04q0D",
        "outputId": "e41a1a0a-642b-468e-f42c-b14af6e86943",
        "colab": {
          "base_uri": "https://localhost:8080/"
        }
      },
      "execution_count": 88,
      "outputs": [
        {
          "output_type": "stream",
          "name": "stdout",
          "text": [
            "[[0. 0. 0. 0. 0. 0. 0.]\n",
            " [0. 0. 0. 0. 0. 0. 0.]\n",
            " [0. 0. 0. 0. 0. 0. 0.]\n",
            " [0. 0. 0. 0. 0. 0. 0.]\n",
            " [0. 0. 0. 0. 0. 0. 0.]\n",
            " [0. 0. 0. 0. 0. 0. 0.]\n",
            " [0. 0. 0. 0. 0. 0. 0.]]\n",
            "[[1. 1. 1. 1. 1.]\n",
            " [1. 1. 1. 1. 1.]\n",
            " [1. 1. 5. 1. 1.]\n",
            " [1. 1. 1. 1. 1.]\n",
            " [1. 1. 1. 1. 1.]]\n",
            "[[0. 0. 0. 0. 0. 0. 0.]\n",
            " [0. 1. 1. 1. 1. 1. 0.]\n",
            " [0. 1. 1. 1. 1. 1. 0.]\n",
            " [0. 1. 1. 5. 1. 1. 0.]\n",
            " [0. 1. 1. 1. 1. 1. 0.]\n",
            " [0. 1. 1. 1. 1. 1. 0.]\n",
            " [0. 0. 0. 0. 0. 0. 0.]]\n"
          ]
        }
      ]
    },
    {
      "cell_type": "code",
      "source": [
        ""
      ],
      "metadata": {
        "id": "GbOwldzG5Q2r"
      },
      "execution_count": null,
      "outputs": []
    },
    {
      "cell_type": "markdown",
      "source": [
        "Careful when copying arrays"
      ],
      "metadata": {
        "id": "DjktGWlZ5Tnq"
      }
    },
    {
      "cell_type": "code",
      "source": [
        "original = np.array((1,2))\n",
        "print(original)\n",
        "new = original#The variable new points to the same object than original\n",
        "new[0] = 100\n",
        "print(original)#If the new array is modified, the original array is modified too"
      ],
      "metadata": {
        "id": "4ZsmJhQN5AKS",
        "outputId": "13f5868c-c759-41f3-a1e2-3e4914f2c018",
        "colab": {
          "base_uri": "https://localhost:8080/"
        }
      },
      "execution_count": 90,
      "outputs": [
        {
          "output_type": "stream",
          "name": "stdout",
          "text": [
            "[1 2]\n",
            "[100   2]\n"
          ]
        }
      ]
    },
    {
      "cell_type": "code",
      "source": [
        "original = np.array((1,2))\n",
        "print(original)\n",
        "new = original.copy()#The variable new points to a different object\n",
        "new[0] = 100\n",
        "print(original)#If the new array is modified, the original array is not modified"
      ],
      "metadata": {
        "id": "Yrk82ACt5cT6",
        "outputId": "78c3eb4e-b4f6-4361-e8cd-5f15e0247646",
        "colab": {
          "base_uri": "https://localhost:8080/"
        }
      },
      "execution_count": 92,
      "outputs": [
        {
          "output_type": "stream",
          "name": "stdout",
          "text": [
            "[1 2]\n",
            "[1 2]\n"
          ]
        }
      ]
    },
    {
      "cell_type": "markdown",
      "metadata": {
        "id": "3W-3M_Lcc_NC"
      },
      "source": [
        "![purple-divider](https://user-images.githubusercontent.com/7065401/52071927-c1cd7100-2562-11e9-908a-dde91ba14e59.png)"
      ]
    }
  ],
  "metadata": {
    "kernelspec": {
      "display_name": "Python 3",
      "language": "python",
      "name": "python3"
    },
    "language_info": {
      "codemirror_mode": {
        "name": "ipython",
        "version": 3
      },
      "file_extension": ".py",
      "mimetype": "text/x-python",
      "name": "python",
      "nbconvert_exporter": "python",
      "pygments_lexer": "ipython3",
      "version": "3.8.1"
    },
    "colab": {
      "name": "2. NumPy.ipynb",
      "provenance": []
    }
  },
  "nbformat": 4,
  "nbformat_minor": 0
}